{
 "cells": [
  {
   "cell_type": "markdown",
   "id": "43a0dbbc-17ec-4ab8-ba6e-b04e66976095",
   "metadata": {},
   "source": [
    "# Extracting ISP review data from dslreports.com\n",
    "\n",
    "### Using BeautifulSoup to extract review data of the ISP Bell Canada from dslreports.com"
   ]
  },
  {
   "cell_type": "code",
   "execution_count": 1,
   "id": "aab23a1c-7aec-4bb5-916c-364f2d95cd26",
   "metadata": {},
   "outputs": [],
   "source": [
    "import pandas as pd\n",
    "import numpy as np\n",
    "import requests\n",
    "from bs4 import BeautifulSoup\n",
    "import re"
   ]
  },
  {
   "cell_type": "markdown",
   "id": "7cb0ea20-e7a1-426c-b6b2-05a13371a0c3",
   "metadata": {
    "tags": []
   },
   "source": [
    "## 1. Extracting data from a single web page\n",
    "### The web page https://www.dslreports.com/comments/412?1=1&p=1 holds the most recent reviews of Bell Internet."
   ]
  },
  {
   "cell_type": "code",
   "execution_count": 2,
   "id": "e34b29d6-6b76-48f4-b6b7-0ed6739adf7c",
   "metadata": {},
   "outputs": [
    {
     "data": {
      "text/plain": [
       "'<!DOCTYPE HTML PUBLIC \"-//W3C//DTD HTML 4.01 Transitional//EN\"\\n   \"http://www.w3.org/TR/html4/loose.dtd\">\\n<html  prefix=\"og: http://ogp.me/ns#\"><head><meta http-equiv=\"X-UA-Compatible\" content=\"IE=EDGE\">\\n<meta http-equiv=\"cache-control\" content=\"no-cache\">\\n<link rel=\"canonical\" href=\"http://www.dslreports.com/comments/412?1=1&p=1\" >\\n<title>Bell Fibe Internet : All reviews | DSLReports, ISP Information</title><meta http-equiv=\"Content-type\" content=\"text/html; charset=UTF-8\">\\n<meta name=\"description\" content=\"Bell Fibe Internet : All reviews\">\\n<link rel=\"apple-touch-icon-precomposed\" sizes=\"57x57\" href=\"/apple-touch-icon-57x57.png?1\">\\n<link rel=\"apple-touch-icon-precomposed\" sizes=\"114x114\" href=\"/apple-touch-icon-114x114.png?1\" >\\n<link rel=\"apple-touch-icon-precomposed\" sizes=\"72x72\" href=\"/apple-touch-icon-72x72.png?1\" >\\n<link rel=\"apple-touch-icon-precomposed\" sizes=\"144x144\" href=\"/apple-touch-icon-144x144.png?1\" >\\n<link rel=\"apple-touch-icon-precomposed\" sizes=\"120x120\" href=\"/appl'"
      ]
     },
     "execution_count": 2,
     "metadata": {},
     "output_type": "execute_result"
    }
   ],
   "source": [
    "url = 'https://www.dslreports.com/comments/412?1=1&p=1'\n",
    "\n",
    "data = requests.get(url).text\n",
    "data[:1000]  # display the first 30 characters of the string data."
   ]
  },
  {
   "cell_type": "code",
   "execution_count": 3,
   "id": "1923ab42-d1da-4cc4-b8ea-0fcd1ec623c1",
   "metadata": {},
   "outputs": [
    {
     "data": {
      "text/plain": [
       "bs4.BeautifulSoup"
      ]
     },
     "execution_count": 3,
     "metadata": {},
     "output_type": "execute_result"
    }
   ],
   "source": [
    "soup = BeautifulSoup(data, 'html5lib')\n",
    "type(soup)"
   ]
  },
  {
   "cell_type": "markdown",
   "id": "656ec3f1-de66-4428-9fbc-3eb316eac59c",
   "metadata": {
    "tags": [],
    "toc-hr-collapsed": true
   },
   "source": [
    "### 1.1 Looking inside the soup"
   ]
  },
  {
   "cell_type": "code",
   "execution_count": 4,
   "id": "b4484e25-e53d-4d3b-9fe6-ac27ffacfbc3",
   "metadata": {},
   "outputs": [
    {
     "data": {
      "text/plain": [
       "'Bell Fibe Internet : All reviews | DSLReports, ISP Information'"
      ]
     },
     "execution_count": 4,
     "metadata": {},
     "output_type": "execute_result"
    }
   ],
   "source": [
    "soup.title.text"
   ]
  },
  {
   "cell_type": "code",
   "execution_count": 5,
   "id": "ead75f54-7996-4dbd-b136-9cb7677799ce",
   "metadata": {
    "tags": []
   },
   "outputs": [
    {
     "data": {
      "text/plain": [
       "'\\n\\n\\nBell Fibe Internet : All reviews | DSLReports, ISP Information\\n\\n\\n\\n\\n\\n\\n\\n\\n\\n\\n\\n\\n\\n\\n\\n\\n\\n\\n\\n\\n\\nvar deferredJSFiles;\\nvar deferredJSProgressLength=0;\\nvar deferredJSProgress=0;\\nvar deferredJSFileDone = new Array();\\n\\nvar _deferredJSFiles = [\\'//i.dslr.net/css/dslrjsbundle.js?1622595206\\', \\'\\'];\\n\\n\\nfunction _downloadJSAtOnload() {\\n    var s = document.getElementsByTagName(\"script\");\\n    for(var i=0; i<s.length; i++) {\\n        if (s[i].src.indexOf(_deferredJSFiles[0]) > -1) {\\n            return;\\n        }\\n    }\\n    deferredJSFiles = _deferredJSFiles.slice();\\n    deferredJSProgressLength = deferredJSFiles.length - 1;\\n    downloadJSAtOnload();\\n}\\n\\nfunction downloadJSAtOnload() {\\n   try {\\n      if (!deferredJSFiles.length)\\n          return;\\n      var deferredJSFile = deferredJSFiles.shift();\\n      if (deferredJSFile.length) {\\n          if (!deferredJSFileDone[deferredJSFile]) {\\n              var e = document.createElement(\\'script\\');\\n              e.src = deferredJSFile;\\n              \\n              // onrea'"
      ]
     },
     "execution_count": 5,
     "metadata": {},
     "output_type": "execute_result"
    }
   ],
   "source": [
    "soup.get_text()[:1000]"
   ]
  },
  {
   "cell_type": "code",
   "execution_count": 6,
   "id": "14992cd7-52ae-4139-8373-3f1e8d35d5ae",
   "metadata": {
    "tags": []
   },
   "outputs": [
    {
     "name": "stdout",
     "output_type": "stream",
     "text": [
      "<!DOCTYPE html PUBLIC \"-//W3C//DTD HTML 4.01 Transitional//EN\" \"http://www.w3.org/TR/html4/loose.dtd\">\n",
      "<html prefix=\"og: http://ogp.me/ns#\">\n",
      " <head>\n",
      "  <meta content=\"IE=EDGE\" http-equiv=\"X-UA-Compatible\"/>\n",
      "  <meta content=\"no-cache\" http-equiv=\"cache-control\"/>\n",
      "  <link href=\"http://www.dslreports.com/comments/412?1=1&amp;p=1\" rel=\"canonical\"/>\n",
      "  <title>\n",
      "   Bell Fibe Internet : All reviews | DSLReports, ISP Information\n",
      "  </title>\n",
      "  <meta content=\"text/html; charset=utf-8\" http-equiv=\"Content-type\"/>\n",
      "  <meta content=\"Bell Fibe Internet : All reviews\" name=\"description\"/>\n",
      "  <link href=\"/apple-touch-icon-57x57.png?1\" rel=\"apple-touch-icon-precomposed\" sizes=\"57x57\"/>\n",
      "  <link href=\"/apple-touch-icon-114x114.png?1\" rel=\"apple-touch-icon-precomposed\" sizes=\"114x114\"/>\n",
      "  <link href=\"/apple-touch-icon-72x72.png?1\" rel=\"apple-touch-icon-precomposed\" sizes=\"72x72\"/>\n",
      "  <link href=\"/apple-touch-icon-144x144.png?1\" rel=\"apple-touch-icon-precomposed\" sizes=\"144x144\"/>\n",
      "  <link href=\"/apple-touch-icon-\n"
     ]
    }
   ],
   "source": [
    "print(soup.prettify()[:1000])"
   ]
  },
  {
   "cell_type": "markdown",
   "id": "8c968545-922f-4255-923e-355e8e648eae",
   "metadata": {
    "tags": []
   },
   "source": [
    "### 1.2 Extracting data from the first review"
   ]
  },
  {
   "cell_type": "code",
   "execution_count": 7,
   "id": "08ff07ab-8afd-427c-a9a9-d99cce826b2f",
   "metadata": {
    "tags": []
   },
   "outputs": [
    {
     "name": "stdout",
     "output_type": "stream",
     "text": [
      "<div>\n",
      " <a name=\"review1\">\n",
      " </a>\n",
      " <table width=\"100%\">\n",
      "  <tbody>\n",
      "   <tr>\n",
      "    <td align=\"LEFT\" valign=\"TOP\">\n",
      "     <div class=\"wiki\">\n",
      "      <h4>\n",
      "       Review by\n",
      "       <b>\n",
      "        ych\n",
      "       </b>\n",
      "       <a href=\"/useremail/u/2012275\">\n",
      "        <img alt=\"See Profile\" border=\"0\" height=\"11\" src=\"//i.dslr.net/bb/profile.gif\" width=\"16\"/>\n",
      "       </a>\n",
      "       <a name=\"96808\">\n",
      "       </a>\n",
      "      </h4>\n",
      "     </div>\n",
      "     <ul class=\"niceList\">\n",
      "      <li>\n",
      "       Location: Montreal, QC, Canada\n",
      "       <br/>\n",
      "      </li>\n",
      "      <li>\n",
      "       Cost: $57 per month (12 month contract)\n",
      "      </li>\n",
      "      <li>\n",
      "       Install:  about\n",
      "       <b>\n",
      "        2 days\n",
      "       </b>\n",
      "      </li>\n",
      "      <li>\n",
      "       No Cap\n",
      "      </li>\n",
      "      <li>\n",
      "       <img alt=\"Telco party\" border=\"0\" height=\"16\" src=\"//i.dslr.net/silk/bell.png\" style=\"vertical-align:middle;\" title=\"Telco party\" width=\"16\"/>\n",
      "       <b>\n",
      "        Bell Canada\n",
      "       </b>\n",
      "      </li>\n",
      "     </ul>\n",
      "     <span style=\"font-size:120%; line-height:1.5em;\">\n",
      "     </span>\n",
      "    </td>\n",
      "    <td align=\"RIGHT\" nowrap=\"\" valign=\"CENTER\">\n",
      "     <b>\n",
      "      Install Co-ordination\n",
      "     </b>\n",
      "     :\n",
      "     <img align=\"ABSMIDDLE\" height=\"10\" src=\"//i.dslr.net/bars/50_sm.gif\" width=\"70\"/>\n",
      "     <br/>\n",
      "     <b>\n",
      "      Connection reliability\n",
      "     </b>\n",
      "     :\n",
      "     <img align=\"ABSMIDDLE\" height=\"10\" src=\"//i.dslr.net/bars/50_sm.gif\" width=\"70\"/>\n",
      "     <br/>\n",
      "     <b>\n",
      "      Tech Support\n",
      "     </b>\n",
      "     :\n",
      "     <img align=\"ABSMIDDLE\" height=\"10\" src=\"//i.dslr.net/bars/50_sm.gif\" width=\"70\"/>\n",
      "     <br/>\n",
      "     <b>\n",
      "      Services\n",
      "     </b>\n",
      "     :\n",
      "     <img align=\"ABSMIDDLE\" height=\"10\" src=\"//i.dslr.net/bars/50_sm.gif\" width=\"70\"/>\n",
      "     <br/>\n",
      "     <small>\n",
      "      <font color=\"#808080\">\n",
      "       (ratings below consensus)\n",
      "       <br/>\n",
      "      </font>\n",
      "     </small>\n",
      "    </td>\n",
      "   </tr>\n",
      "  </tbody>\n",
      " </table>\n",
      " <br/>\n",
      " See ratings above.\n",
      " <br/>\n",
      " <div style=\"float:right\">\n",
      "  <br/>\n",
      "  <font color=\"red\">\n",
      "   Fair warning:\n",
      "  </font>\n",
      "  reviewer joined this month\n",
      "  <br/>\n",
      "  updated 11 days ago\n",
      " </div>\n",
      " <div style=\"clear: both;\">\n",
      " </div>\n",
      " <br/>\n",
      " <table border=\"0\" cellpadding=\"0\" cellspacing=\"0\">\n",
      "  <!-- end follow review,96808 -->\n",
      "  <tbody>\n",
      "   <tr>\n",
      "    <td colspan=\"10\">\n",
      "     <img src=\"//i.dslr.net/vert.gif\"/>\n",
      "    </td>\n",
      "   </tr>\n",
      "   <tr>\n",
      "    <td colspan=\"10\">\n",
      "     <div style=\"border:1px dotted #CCCCCC; padding:4px;\">\n",
      "      <a href=\"/speak/review,96808?enc=64urlL2NvbW1lbnRzLzQxMj8xPTEmcD0x\">\n",
      "       <b>\n",
      "        your comment..\n",
      "       </b>\n",
      "      </a>\n",
      "     </div>\n",
      "    </td>\n",
      "   </tr>\n",
      "   <!-- close 1  mode=full -->\n",
      "  </tbody>\n",
      " </table>\n",
      " <div class=\"soft-tbl-2 borderless\">\n",
      "  <table align=\"center\" border=\"0\" cellpadding=\"3\" cellspacing=\"0\" width=\"96%\">\n",
      "   <tbody>\n",
      "    <tr>\n",
      "    </tr>\n",
      "   </tbody>\n",
      "  </table>\n",
      " </div>\n",
      " <br/>\n",
      " <br/>\n",
      " <br/>\n",
      " <br/>\n",
      " <br/>\n",
      " <br/>\n",
      "</div>\n",
      "\n"
     ]
    }
   ],
   "source": [
    "review = soup.find('a', {'name':'review1'}).parent\n",
    "print(review.prettify())"
   ]
  },
  {
   "cell_type": "markdown",
   "id": "54278737-d2b2-42a3-b5a8-54c950e32e60",
   "metadata": {
    "tags": [],
    "toc-hr-collapsed": true
   },
   "source": [
    "### 1.2.1 Let us first try to get the date the review was posted or updated"
   ]
  },
  {
   "cell_type": "code",
   "execution_count": 8,
   "id": "dd6be890-d71b-4c0d-8141-354f08513119",
   "metadata": {},
   "outputs": [
    {
     "data": {
      "text/plain": [
       "5"
      ]
     },
     "execution_count": 8,
     "metadata": {},
     "output_type": "execute_result"
    }
   ],
   "source": [
    "# The 2nd div tag in review1 includes the elapsed time since the review was posted or updated\n",
    "len(review.find_all('div'))"
   ]
  },
  {
   "cell_type": "code",
   "execution_count": 9,
   "id": "effca0f8-0d1d-491a-ac3d-8604cce80c20",
   "metadata": {},
   "outputs": [
    {
     "data": {
      "text/plain": [
       "<div style=\"float:right\"><br/><font color=\"red\">Fair warning:</font> reviewer joined this month<br/>updated 11 days ago</div>"
      ]
     },
     "execution_count": 9,
     "metadata": {},
     "output_type": "execute_result"
    }
   ],
   "source": [
    "review.find_all('div')[1]"
   ]
  },
  {
   "cell_type": "code",
   "execution_count": 10,
   "id": "7be28fc3-751e-4f5f-af62-6fa35fb601be",
   "metadata": {},
   "outputs": [
    {
     "data": {
      "text/plain": [
       "'11 days'"
      ]
     },
     "execution_count": 10,
     "metadata": {},
     "output_type": "execute_result"
    }
   ],
   "source": [
    "# The elapsed time since the review was posted or updated\n",
    "# We w will store the attributes of the review in a dict\n",
    "review_data = dict()\n",
    "review_date_string = review.find_all('div')[1].find(string= re.compile('(updated)|(lodged)'))\n",
    "review_data['days_or_years_since_review'] = ' '.join(review_date_string.split(' ')[1:3])\n",
    "review_data['days_or_years_since_review']"
   ]
  },
  {
   "cell_type": "markdown",
   "id": "4201e1a7-dd0b-4477-8d4f-431da411bec9",
   "metadata": {
    "toc-hr-collapsed": true
   },
   "source": [
    "### 1.2.2 Getting the other attributes of the first review  "
   ]
  },
  {
   "cell_type": "code",
   "execution_count": 11,
   "id": "a057f46a-628c-4b93-8eb9-1ff98826b790",
   "metadata": {
    "tags": []
   },
   "outputs": [
    {
     "name": "stdout",
     "output_type": "stream",
     "text": [
      "<table width=\"100%\">\n",
      " <tbody>\n",
      "  <tr>\n",
      "   <td align=\"LEFT\" valign=\"TOP\">\n",
      "    <div class=\"wiki\">\n",
      "     <h4>\n",
      "      Review by\n",
      "      <b>\n",
      "       ych\n",
      "      </b>\n",
      "      <a href=\"/useremail/u/2012275\">\n",
      "       <img alt=\"See Profile\" border=\"0\" height=\"11\" src=\"//i.dslr.net/bb/profile.gif\" width=\"16\"/>\n",
      "      </a>\n",
      "      <a name=\"96808\">\n",
      "      </a>\n",
      "     </h4>\n",
      "    </div>\n",
      "    <ul class=\"niceList\">\n",
      "     <li>\n",
      "      Location: Montreal, QC, Canada\n",
      "      <br/>\n",
      "     </li>\n",
      "     <li>\n",
      "      Cost: $57 per month (12 month contract)\n",
      "     </li>\n",
      "     <li>\n",
      "      Install:  about\n",
      "      <b>\n",
      "       2 days\n",
      "      </b>\n",
      "     </li>\n",
      "     <li>\n",
      "      No Cap\n",
      "     </li>\n",
      "     <li>\n",
      "      <img alt=\"Telco party\" border=\"0\" height=\"16\" src=\"//i.dslr.net/silk/bell.png\" style=\"vertical-align:middle;\" title=\"Telco party\" width=\"16\"/>\n",
      "      <b>\n",
      "       Bell Canada\n",
      "      </b>\n",
      "     </li>\n",
      "    </ul>\n",
      "    <span style=\"font-size:120%; line-height:1.5em;\">\n",
      "    </span>\n",
      "   </td>\n",
      "   <td align=\"RIGHT\" nowrap=\"\" valign=\"CENTER\">\n",
      "    <b>\n",
      "     Install Co-ordination\n",
      "    </b>\n",
      "    :\n",
      "    <img align=\"ABSMIDDLE\" height=\"10\" src=\"//i.dslr.net/bars/50_sm.gif\" width=\"70\"/>\n",
      "    <br/>\n",
      "    <b>\n",
      "     Connection reliability\n",
      "    </b>\n",
      "    :\n",
      "    <img align=\"ABSMIDDLE\" height=\"10\" src=\"//i.dslr.net/bars/50_sm.gif\" width=\"70\"/>\n",
      "    <br/>\n",
      "    <b>\n",
      "     Tech Support\n",
      "    </b>\n",
      "    :\n",
      "    <img align=\"ABSMIDDLE\" height=\"10\" src=\"//i.dslr.net/bars/50_sm.gif\" width=\"70\"/>\n",
      "    <br/>\n",
      "    <b>\n",
      "     Services\n",
      "    </b>\n",
      "    :\n",
      "    <img align=\"ABSMIDDLE\" height=\"10\" src=\"//i.dslr.net/bars/50_sm.gif\" width=\"70\"/>\n",
      "    <br/>\n",
      "    <small>\n",
      "     <font color=\"#808080\">\n",
      "      (ratings below consensus)\n",
      "      <br/>\n",
      "     </font>\n",
      "    </small>\n",
      "   </td>\n",
      "  </tr>\n",
      " </tbody>\n",
      "</table>\n",
      "\n"
     ]
    }
   ],
   "source": [
    "# The first table within review1 includes all the required data aside from the posting date.\n",
    "review_table = review.find('table')\n",
    "print(review_table.prettify())"
   ]
  },
  {
   "cell_type": "code",
   "execution_count": 12,
   "id": "c3674b86-19e9-4dda-a4d4-cf5e6acb4917",
   "metadata": {
    "tags": []
   },
   "outputs": [
    {
     "name": "stdout",
     "output_type": "stream",
     "text": [
      "Number of rows: 1\n",
      "Number of columns: 2\n"
     ]
    }
   ],
   "source": [
    "# The table has only two cells as you can see below. \n",
    "print('Number of rows:', len(review_table.find_all('tr')))\n",
    "print('Number of columns:',len(review_table.find_all('td')))"
   ]
  },
  {
   "cell_type": "markdown",
   "id": "93f26907-57d5-409e-9f3b-ec38fc38843f",
   "metadata": {},
   "source": [
    "#### Extracting data from the first cell"
   ]
  },
  {
   "cell_type": "code",
   "execution_count": 13,
   "id": "ffcbd9bb-45d1-4051-8586-82d8674e37f4",
   "metadata": {
    "tags": []
   },
   "outputs": [
    {
     "name": "stdout",
     "output_type": "stream",
     "text": [
      "<td align=\"LEFT\" valign=\"TOP\">\n",
      " <div class=\"wiki\">\n",
      "  <h4>\n",
      "   Review by\n",
      "   <b>\n",
      "    ych\n",
      "   </b>\n",
      "   <a href=\"/useremail/u/2012275\">\n",
      "    <img alt=\"See Profile\" border=\"0\" height=\"11\" src=\"//i.dslr.net/bb/profile.gif\" width=\"16\"/>\n",
      "   </a>\n",
      "   <a name=\"96808\">\n",
      "   </a>\n",
      "  </h4>\n",
      " </div>\n",
      " <ul class=\"niceList\">\n",
      "  <li>\n",
      "   Location: Montreal, QC, Canada\n",
      "   <br/>\n",
      "  </li>\n",
      "  <li>\n",
      "   Cost: $57 per month (12 month contract)\n",
      "  </li>\n",
      "  <li>\n",
      "   Install:  about\n",
      "   <b>\n",
      "    2 days\n",
      "   </b>\n",
      "  </li>\n",
      "  <li>\n",
      "   No Cap\n",
      "  </li>\n",
      "  <li>\n",
      "   <img alt=\"Telco party\" border=\"0\" height=\"16\" src=\"//i.dslr.net/silk/bell.png\" style=\"vertical-align:middle;\" title=\"Telco party\" width=\"16\"/>\n",
      "   <b>\n",
      "    Bell Canada\n",
      "   </b>\n",
      "  </li>\n",
      " </ul>\n",
      " <span style=\"font-size:120%; line-height:1.5em;\">\n",
      " </span>\n",
      "</td>\n",
      "\n"
     ]
    }
   ],
   "source": [
    "first_cell = review_table.find_all('td')[0]\n",
    "print(first_cell.prettify())"
   ]
  },
  {
   "cell_type": "code",
   "execution_count": 14,
   "id": "bc8b79a4-96c3-4f69-9dea-028cb05ecd37",
   "metadata": {
    "tags": []
   },
   "outputs": [
    {
     "name": "stdout",
     "output_type": "stream",
     "text": [
      "{'days_or_years_since_review': '11 days', 'review_by': 'ych', 'name': '96808', 'location': 'Montreal, QC, Canada', 'cost': '57', 'install': '2', 'provider': 'Bell Canada'}\n"
     ]
    }
   ],
   "source": [
    "try:\n",
    "    rev_by = first_cell.find('div').text.split(' ')\n",
    "    if rev_by[0].lower() + '_' + rev_by[1] == 'review_by':\n",
    "        review_data['review_by'] = ' '.join(rev_by[2:]).strip()\n",
    "except AttributeError:\n",
    "    pass\n",
    "\n",
    "try:\n",
    "    review_data['name'] = first_cell.find_all('a')[1]['name']\n",
    "except AttributeError:\n",
    "    pass\n",
    "\n",
    "for item in first_cell.find_all('li'):\n",
    "    item = item.text.split(' ')\n",
    "    key = item[0].strip(':').lower()  \n",
    "    if key == 'location':\n",
    "        review_data[key] = ' '.join(item[1:])\n",
    "    elif key == 'cost':\n",
    "       #review_data[key] = re.findall('^(?=\\D*)\\$(\\d+)(?=\\D+)',' '.join(item[1:]))[0]\n",
    "        val = item[1].strip('$')\n",
    "        if val.isdigit():\n",
    "            review_data[key] = val\n",
    "    elif key == 'install':\n",
    "       #review_data[key] = item[3]\n",
    "       review_data[key] = re.findall('^\\D*(\\d+)\\D*', ' '.join(item[1:]))[0]\n",
    "\n",
    "try:\n",
    "    review_data['provider'] = first_cell.find('img', {'alt': 'Telco party'}).find_next_sibling('b').text\n",
    "except AttributeError:\n",
    "    pass\n",
    "\n",
    "print(review_data)"
   ]
  },
  {
   "cell_type": "markdown",
   "id": "341fd4a2-9f33-4ce3-aeac-1efb3309048a",
   "metadata": {},
   "source": [
    "#### Extracting data from the second cell"
   ]
  },
  {
   "cell_type": "code",
   "execution_count": 15,
   "id": "d0ab727d-cb37-4a85-b9c9-4a8755a727a7",
   "metadata": {
    "tags": []
   },
   "outputs": [
    {
     "name": "stdout",
     "output_type": "stream",
     "text": [
      "<td align=\"RIGHT\" nowrap=\"\" valign=\"CENTER\">\n",
      " <b>\n",
      "  Install Co-ordination\n",
      " </b>\n",
      " :\n",
      " <img align=\"ABSMIDDLE\" height=\"10\" src=\"//i.dslr.net/bars/50_sm.gif\" width=\"70\"/>\n",
      " <br/>\n",
      " <b>\n",
      "  Connection reliability\n",
      " </b>\n",
      " :\n",
      " <img align=\"ABSMIDDLE\" height=\"10\" src=\"//i.dslr.net/bars/50_sm.gif\" width=\"70\"/>\n",
      " <br/>\n",
      " <b>\n",
      "  Tech Support\n",
      " </b>\n",
      " :\n",
      " <img align=\"ABSMIDDLE\" height=\"10\" src=\"//i.dslr.net/bars/50_sm.gif\" width=\"70\"/>\n",
      " <br/>\n",
      " <b>\n",
      "  Services\n",
      " </b>\n",
      " :\n",
      " <img align=\"ABSMIDDLE\" height=\"10\" src=\"//i.dslr.net/bars/50_sm.gif\" width=\"70\"/>\n",
      " <br/>\n",
      " <small>\n",
      "  <font color=\"#808080\">\n",
      "   (ratings below consensus)\n",
      "   <br/>\n",
      "  </font>\n",
      " </small>\n",
      "</td>\n"
     ]
    }
   ],
   "source": [
    "second_cell = review_table.find_all('td')[1]\n",
    "print(second_cell.prettify())"
   ]
  },
  {
   "cell_type": "code",
   "execution_count": 16,
   "id": "f9854b1b-1658-4038-a63d-49d485931715",
   "metadata": {},
   "outputs": [
    {
     "data": {
      "text/plain": [
       "{'days_or_years_since_review': '11 days',\n",
       " 'review_by': 'ych',\n",
       " 'name': '96808',\n",
       " 'location': 'Montreal, QC, Canada',\n",
       " 'cost': '57',\n",
       " 'install': '2',\n",
       " 'provider': 'Bell Canada',\n",
       " 'install_co-ordination': '50',\n",
       " 'connection_reliability': '50',\n",
       " 'tech_support': '50',\n",
       " 'services': '50'}"
      ]
     },
     "execution_count": 16,
     "metadata": {},
     "output_type": "execute_result"
    }
   ],
   "source": [
    "for (key, value)  in zip(second_cell.find_all('b'), second_cell.find_all('img')):\n",
    "    key = key.text\n",
    "    key = '_'.join(key.split(' ')).lower()\n",
    "    review_data[key]  = re.findall('\\D*(\\d*)', value['src'])[0]\n",
    "    \n",
    "review_data"
   ]
  },
  {
   "cell_type": "markdown",
   "id": "e6bdd8d2-a029-4528-8ba7-9514575f77a1",
   "metadata": {
    "tags": [],
    "toc-hr-collapsed": true
   },
   "source": [
    "### 1.3 Creating a list that holds all reviews in a single web page"
   ]
  },
  {
   "cell_type": "code",
   "execution_count": 17,
   "id": "625ae735-a2fa-4bf1-b2f7-7063607484f5",
   "metadata": {
    "tags": []
   },
   "outputs": [
    {
     "data": {
      "text/plain": [
       "[<a name=\"review1\"> </a>,\n",
       " <a name=\"review2\"> </a>,\n",
       " <a name=\"review3\"> </a>,\n",
       " <a name=\"review4\"> </a>,\n",
       " <a name=\"review5\"> </a>,\n",
       " <a name=\"review6\"> </a>,\n",
       " <a name=\"review7\"> </a>,\n",
       " <a name=\"review8\"> </a>,\n",
       " <a name=\"review9\"> </a>,\n",
       " <a name=\"review10\"> </a>]"
      ]
     },
     "execution_count": 17,
     "metadata": {},
     "output_type": "execute_result"
    }
   ],
   "source": [
    "# Find all reviews in a single web page:\n",
    "reviews_list = soup.find_all('a', {'name':re.compile('review\\d')})\n",
    "reviews_list"
   ]
  },
  {
   "cell_type": "code",
   "execution_count": 18,
   "id": "909ab2bd-2dca-4d14-ac50-38bf043a59b5",
   "metadata": {
    "tags": []
   },
   "outputs": [
    {
     "name": "stdout",
     "output_type": "stream",
     "text": [
      "<div>\n",
      " <a name=\"review1\">\n",
      " </a>\n",
      " <table width=\"100%\">\n",
      "  <tbody>\n",
      "   <tr>\n",
      "    <td align=\"LEFT\" valign=\"TOP\">\n",
      "     <div class=\"wiki\">\n",
      "      <h4>\n",
      "       Review by\n",
      "       <b>\n",
      "        ych\n",
      "       </b>\n",
      "       <a href=\"/useremail/u/2012275\">\n",
      "        <img alt=\"See Profile\" border=\"0\" height=\"11\" src=\"//i.dslr.net/bb/profile.gif\" width=\"16\"/>\n",
      "       </a>\n",
      "       <a name=\"96808\">\n",
      "       </a>\n",
      "      </h4>\n",
      "     </div>\n",
      "     <ul class=\"niceList\">\n",
      "      <li>\n",
      "       Location: Montreal, QC, Canada\n",
      "       <br/>\n",
      "      </li>\n",
      "      <li>\n",
      "       Cost: $57 per month (12 month contract)\n",
      "      </li>\n",
      "      <li>\n",
      "       Install:  about\n",
      "       <b>\n",
      "        2 days\n",
      "       </b>\n",
      "      </li>\n",
      "      <li>\n",
      "       No Cap\n",
      "      </li>\n",
      "      <li>\n",
      "       <img alt=\"Telco party\" border=\"0\" height=\"16\" src=\"//i.dslr.net/silk/bell.png\" style=\"vertical-align:middle;\" title=\"Telco party\" width=\"16\"/>\n",
      "       <b>\n",
      "        Bell Canada\n",
      "       </b>\n",
      "      </li>\n",
      "     </ul>\n",
      "     <span style=\"font-size:120%; line-height:1.5em;\">\n",
      "     </span>\n",
      "    </td>\n",
      "    <td align=\"RIGHT\" nowrap=\"\" valign=\"CENTER\">\n",
      "     <b>\n",
      "      Install Co-ordination\n",
      "     </b>\n",
      "     :\n",
      "     <img align=\"ABSMIDDLE\" height=\"10\" src=\"//i.dslr.net/bars/50_sm.gif\" width=\"70\"/>\n",
      "     <br/>\n",
      "     <b>\n",
      "      Connection reliability\n",
      "     </b>\n",
      "     :\n",
      "     <img align=\"ABSMIDDLE\" height=\"10\" src=\"//i.dslr.net/bars/50_sm.gif\" width=\"70\"/>\n",
      "     <br/>\n",
      "     <b>\n",
      "      Tech Support\n",
      "     </b>\n",
      "     :\n",
      "     <img align=\"ABSMIDDLE\" height=\"10\" src=\"//i.dslr.net/bars/50_sm.gif\" width=\"70\"/>\n",
      "     <br/>\n",
      "     <b>\n",
      "      Services\n",
      "     </b>\n",
      "     :\n",
      "     <img align=\"ABSMIDDLE\" height=\"10\" src=\"//i.dslr.net/bars/50_sm.gif\" width=\"70\"/>\n",
      "     <br/>\n",
      "     <small>\n",
      "      <font color=\"#808080\">\n",
      "       (ratings below consensus)\n",
      "       <br/>\n",
      "      </font>\n",
      "     </small>\n",
      "    </td>\n",
      "   </tr>\n",
      "  </tbody>\n",
      " </table>\n",
      " <br/>\n",
      " See ratings above.\n",
      " <br/>\n",
      " <div style=\"float:right\">\n",
      "  <br/>\n",
      "  <font color=\"red\">\n",
      "   Fair warning:\n",
      "  </font>\n",
      "  reviewer joined this month\n",
      "  <br/>\n",
      "  updated 11 days ago\n",
      " </div>\n",
      " <div style=\"clear: both;\">\n",
      " </div>\n",
      " <br/>\n",
      " <table border=\"0\" cellpadding=\"0\" cellspacing=\"0\">\n",
      "  <!-- end follow review,96808 -->\n",
      "  <tbody>\n",
      "   <tr>\n",
      "    <td colspan=\"10\">\n",
      "     <img src=\"//i.dslr.net/vert.gif\"/>\n",
      "    </td>\n",
      "   </tr>\n",
      "   <tr>\n",
      "    <td colspan=\"10\">\n",
      "     <div style=\"border:1px dotted #CCCCCC; padding:4px;\">\n",
      "      <a href=\"/speak/review,96808?enc=64urlL2NvbW1lbnRzLzQxMj8xPTEmcD0x\">\n",
      "       <b>\n",
      "        your comment..\n",
      "       </b>\n",
      "      </a>\n",
      "     </div>\n",
      "    </td>\n",
      "   </tr>\n",
      "   <!-- close 1  mode=full -->\n",
      "  </tbody>\n",
      " </table>\n",
      " <div class=\"soft-tbl-2 borderless\">\n",
      "  <table align=\"center\" border=\"0\" cellpadding=\"3\" cellspacing=\"0\" width=\"96%\">\n",
      "   <tbody>\n",
      "    <tr>\n",
      "    </tr>\n",
      "   </tbody>\n",
      "  </table>\n",
      " </div>\n",
      " <br/>\n",
      " <br/>\n",
      " <br/>\n",
      " <br/>\n",
      " <br/>\n",
      " <br/>\n",
      "</div>\n",
      "\n"
     ]
    }
   ],
   "source": [
    "#To find the content of the reviews, we need the parents of the 'a' tags\n",
    "reviews_list = [review.parent for review  in reviews_list]\n",
    "print(reviews_list[0].prettify())"
   ]
  },
  {
   "cell_type": "markdown",
   "id": "90c37728-1cc0-4015-be8c-ebd0343b4d05",
   "metadata": {},
   "source": [
    "## 2. Building a function that extracts data from all reviews contained in a dslreports.com reviews page\n",
    "#### This function is built using the code that we wrote above. Its returns review data in a Pandas DataFrame."
   ]
  },
  {
   "cell_type": "code",
   "execution_count": 19,
   "id": "698d8915-a1bd-42e3-b7c9-4be789e64205",
   "metadata": {
    "tags": []
   },
   "outputs": [],
   "source": [
    "\n",
    "def review_data_collection(soup):\n",
    "    '''\n",
    "    ARG: soup: a BeautifulSoup object that represents a single DSL Reports web page that contains ISP reviews.\n",
    "    Returns: a Pandas DataFrame what contains review data using the following columns:\n",
    "        col = ['review_by', 'review_id', 'days_or_years_since_review', 'location', \\\n",
    "                                      'cost', 'installation_time', 'provider', 'pre_sales_information', \\\n",
    "                                       'install_co-ordination', 'connection_reliability', 'tech_support', 'services', \\\n",
    "                                       'value_for_money']\n",
    "    '''\n",
    "    \n",
    "    # Find all reviews in a single web page:\n",
    "    try:\n",
    "        reviews_list = soup.find_all('a', {'name':re.compile('review\\d')})\n",
    "        if reviews_list == []:\n",
    "            raise IndexError('No reviews found in this page')\n",
    "    except IndexError as ie:\n",
    "        print(ie)\n",
    "        return\n",
    "        \n",
    "    reviews_list = [review.parent for review  in reviews_list]\n",
    "\n",
    "\n",
    "    # We initialize the list review_data_list that will hold dictionaries that contain the different attributes of each review\n",
    "    review_data_list = []\n",
    "\n",
    "    #print('Rows', end = '\\t')\n",
    "    i=0\n",
    "    for review in reviews_list:\n",
    "        # initialize a dict that will hold the data of each row (review)\n",
    "        review_data = dict()\n",
    "        i+=1\n",
    "        #print(i, end = '\\t')\n",
    "\n",
    "        # Find when a review was posted or updated\n",
    "        # Remove from the soup the content of the div tag that include the information about other reviews \n",
    "        # by the same reviewer. (they use the class 'soft-tbl-10'). This is only present is some reviews.\n",
    "        try:\n",
    "            review.find('div', class_ = 'soft-tbl-10').extract()\n",
    "        except AttributeError:\n",
    "            pass\n",
    "        \n",
    "        # Some reviews have attached pictures within a div tag\n",
    "        # Attachments: <div class=\"news_tiny_center\"> <!-- tiny_attach --> ....\n",
    "        # This should also be removed from the soup.\n",
    "        try:\n",
    "            for attach_tag in review.find_all(text=re.compile('tiny_attach')):\n",
    "                  attach_tag.parent.extract()\n",
    "        except AttributeError:\n",
    "            pass       \n",
    "\n",
    "        # After the soup clean-up above, the required 'age' of a review will always be included within the 2nd div tag.\n",
    "        try:\n",
    "            review_date_string = review.find_all('div')[1].find(string = re.compile('(updated)|(lodged)'))\n",
    "            review_data['days_or_years_since_review'] = ' '.join(review_date_string.split(' ')[1:3])\n",
    "        except AttributeError:\n",
    "            pass\n",
    "\n",
    "\n",
    "        # The first table within each review includes all the required data aside from the posting date.\n",
    "        # The table has one row and two cells.\n",
    "        review_table = review.find('table')\n",
    "\n",
    "        # Scrap the review data included in the first cell\n",
    "        first_cell = review_table.find_all('td')[0]\n",
    "        \n",
    "        try:\n",
    "            rev_by = first_cell.find('div').text.split(' ')\n",
    "            if rev_by[0].lower() + '_' + rev_by[1] == 'review_by':\n",
    "                review_data['review_by'] = ' '. join(rev_by[2:])\n",
    "            else:\n",
    "                pass\n",
    "        except AttributeError:\n",
    "            pass\n",
    "\n",
    "        try:\n",
    "            review_data['review_id'] = first_cell.find_all('a')[1]['name']\n",
    "        except:\n",
    "            pass\n",
    "\n",
    "        for item in first_cell.find_all('li'):\n",
    "            item = item.text.split(' ')\n",
    "            key = item[0].strip(':').lower()  \n",
    "            if key == 'location':\n",
    "                review_data[key] = ' '.join(item[1:])\n",
    "            elif key == 'cost':\n",
    "                val = item[1].strip('$')\n",
    "                if val.isdigit():\n",
    "                    review_data[key] = val\n",
    "            elif key == 'install':\n",
    "                review_data['installation_time'] = re.findall('^\\D*(\\d+)\\D*', ' '.join(item[1:]))[0]\n",
    "\n",
    "        try:\n",
    "            review_data['provider'] = review_table.find_all('td')[0].find('img', {'alt': 'Telco party'}).find_next_sibling('b').text\n",
    "        except AttributeError:\n",
    "            pass\n",
    "\n",
    "\n",
    "        # Scrap the review data included in the 2nd cell\n",
    "        # The ratings are included in the name of images. See this example:\n",
    "        # <b>Install Co-ordination</b>:<IMG WIDTH=70 HEIGHT=10 ALIGN=ABSMIDDLE SRC=\"//i.dslr.net/bars/50_sm.gif\">\n",
    "        \n",
    "        second_cell = review_table.find_all('td')[1]\n",
    "        for (key, value)  in zip(second_cell.find_all('b'), second_cell.find_all('img')):\n",
    "            key = key.text\n",
    "            key = '_'.join(key.split(' ')).lower()\n",
    "            review_data[key]  = re.findall('\\D*(\\d*)', value['src'])[0]\n",
    "\n",
    "\n",
    "        # Finally we append the data of each row to the list\n",
    "        review_data_list.append(review_data)\n",
    "     \n",
    "    #return a dataframe using the list above and return it.\n",
    "    \n",
    "    col = ['review_by', 'review_id', 'days_or_years_since_review', 'location', \\\n",
    "            'cost', 'installation_time', 'provider', 'pre_sales_information', \\\n",
    "            'install_co-ordination', 'connection_reliability', 'tech_support', 'services', 'value_for_money']\n",
    "    \n",
    "    return pd.DataFrame(review_data_list, columns = col)\n",
    "    "
   ]
  },
  {
   "cell_type": "markdown",
   "id": "3f1a30a3-39e0-4af1-8c4b-89abea089cd6",
   "metadata": {},
   "source": [
    "## 3. Extracting review data for the 120+ web pages that contain Bell Internet reviews on dslreports.com"
   ]
  },
  {
   "cell_type": "markdown",
   "id": "2fb47106-5fd7-4b66-864e-b0b1c3197d47",
   "metadata": {},
   "source": [
    "### 3.1 Identifying the tags that hold pagination information"
   ]
  },
  {
   "cell_type": "code",
   "execution_count": 20,
   "id": "5d3d4321-921b-4cce-b922-0c77a530e9e9",
   "metadata": {
    "tags": []
   },
   "outputs": [
    {
     "name": "stdout",
     "output_type": "stream",
     "text": [
      "<!DOCTYPE html PUBLIC \"-//W3C//DTD HTML 4.01 Transitional//EN\" \"http://www.w3.org/TR/html4/loose.dtd\">\n",
      "<html prefix=\"og: http://ogp.me/ns#\">\n",
      " <head>\n",
      "  <meta content=\"IE=EDGE\" http-equiv=\"X-UA-Compatible\"/>\n",
      "  <meta content=\"no-cache\" http-equiv=\"cache-control\"/>\n",
      "  <link href=\"http://www.dslreports.com/comments/412?1=1&amp;p=1\" rel=\"canonical\"/>\n",
      "  <title>\n",
      "   Bell Fibe Internet : All reviews | DSLReports, ISP Information\n",
      "  </title>\n",
      "  <meta content=\"text/html; charset=utf-8\" http-equiv=\"Content-type\"/>\n",
      "  <meta content=\"Bell Fibe Internet : All reviews\" name=\"description\"/>\n",
      "  <link href=\"/apple-touch-icon-57x57.png?1\" rel=\"apple-touch-icon-precomposed\" sizes=\"57x57\"/>\n",
      "  <link href=\"/apple-touch-icon-114x114.png?1\" rel=\"apple-touch-icon-precomposed\" sizes=\"114x114\"/>\n",
      "  <link href=\"/apple-touch-icon-72x72.png?1\" rel=\"apple-touch-icon-precomposed\" sizes=\"72x72\"/>\n",
      "  <link href=\"/apple-touch-icon-144x144.png?1\" rel=\"apple-touch-icon-precomposed\" sizes=\"144x144\"/>\n",
      "  <link href=\"/apple-touch-icon-\n"
     ]
    }
   ],
   "source": [
    "print(soup.prettify()[:1000])"
   ]
  },
  {
   "cell_type": "code",
   "execution_count": 21,
   "id": "7e62c2c1-4616-4068-9adf-94b3faaa2b50",
   "metadata": {},
   "outputs": [
    {
     "data": {
      "text/plain": [
       "['Reviews',\n",
       " '(1212 Reviews)',\n",
       " 'My Other Reviews',\n",
       " 'My Other Reviews',\n",
       " '(1212 Reviews)',\n",
       " 'ISP Reviews']"
      ]
     },
     "execution_count": 21,
     "metadata": {},
     "output_type": "execute_result"
    }
   ],
   "source": [
    "soup.find_all(string =  re.compile('Reviews'))"
   ]
  },
  {
   "cell_type": "code",
   "execution_count": 22,
   "id": "c08f1544-eb23-48c7-a736-74874e561bb5",
   "metadata": {
    "tags": []
   },
   "outputs": [
    {
     "name": "stdout",
     "output_type": "stream",
     "text": [
      "<div class=\"ks-pagination-links\" style=\"\">\n",
      " <ul>\n",
      "  <li class=\"next\">\n",
      "   <a href=\"/comments/412?1=1&amp;p=2\">\n",
      "    »\n",
      "   </a>\n",
      "  </li>\n",
      "  <li class=\"next\">\n",
      "   <a href=\"/comments/412?1=1&amp;p=11\">\n",
      "    »»\n",
      "   </a>\n",
      "  </li>\n",
      "  <li class=\"current\">\n",
      "   1\n",
      "  </li>\n",
      "  <li>\n",
      "   <a href=\"/comments/412?1=1&amp;p=2\">\n",
      "    2\n",
      "   </a>\n",
      "  </li>\n",
      "  ··\n",
      "  <li>\n",
      "   <a href=\"/comments/412?1=1&amp;p=122\">\n",
      "    122\n",
      "   </a>\n",
      "  </li>\n",
      " </ul>\n",
      " <span class=\"pager_help\">\n",
      "  (1212 Reviews)\n",
      " </span>\n",
      "</div>\n"
     ]
    }
   ],
   "source": [
    "print(soup.find_all(string =  re.compile('Reviews'))[1].parent.parent.prettify())"
   ]
  },
  {
   "cell_type": "code",
   "execution_count": 23,
   "id": "2cc378a6-fccd-41ba-850d-9533e3193d21",
   "metadata": {},
   "outputs": [
    {
     "data": {
      "text/plain": [
       "122"
      ]
     },
     "execution_count": 23,
     "metadata": {},
     "output_type": "execute_result"
    }
   ],
   "source": [
    "# The number of review pages\n",
    "int(soup.find('div', class_ = 'ks-pagination-links').find_all('li')[-1].text)"
   ]
  },
  {
   "cell_type": "code",
   "execution_count": 24,
   "id": "f92c8c33-cdfc-4456-8753-99475f0c00d6",
   "metadata": {},
   "outputs": [],
   "source": [
    "# Get the BeautifulSoup object oF the last review page (the least recent reviews)\n",
    "url = 'https://www.dslreports.com/comments/412?1=1&p=122'\n",
    "\n",
    "data = requests.get(url).text\n",
    "soup = BeautifulSoup(data, 'html5lib')"
   ]
  },
  {
   "cell_type": "code",
   "execution_count": 25,
   "id": "4727b593-4950-4821-86c0-4bc0f676fdd8",
   "metadata": {
    "tags": []
   },
   "outputs": [
    {
     "name": "stdout",
     "output_type": "stream",
     "text": [
      "<div class=\"ks-pagination-links\" style=\"\">\n",
      " <ul>\n",
      "  <li class=\"noclick\">\n",
      "   »\n",
      "  </li>\n",
      "  <li class=\"noclick\">\n",
      "   »»\n",
      "  </li>\n",
      "  <li>\n",
      "   <a href=\"/comments/412?1=1&amp;p=1\">\n",
      "    1\n",
      "   </a>\n",
      "  </li>\n",
      "  ··\n",
      "  <li>\n",
      "   <a href=\"/comments/412?1=1&amp;p=121\">\n",
      "    121\n",
      "   </a>\n",
      "  </li>\n",
      "  <li class=\"current\">\n",
      "   122\n",
      "  </li>\n",
      " </ul>\n",
      " <span class=\"pager_help\">\n",
      "  (1212 Reviews)\n",
      " </span>\n",
      "</div>\n"
     ]
    }
   ],
   "source": [
    "# We can use the  tag class 'ks-pagination-links'to easily find the pagination info.  \n",
    "# Note that the first page includes class='next' and the last one includes class='noclick'\n",
    "print(soup.find('div', class_ = 'ks-pagination-links').prettify())"
   ]
  },
  {
   "cell_type": "markdown",
   "id": "e146f38a-1ab7-43b2-ac09-7a386bf451f1",
   "metadata": {},
   "source": [
    "### 3.2 Extracting review data for the web pages that contain reviews and writing it into a pandas DataFrame"
   ]
  },
  {
   "cell_type": "code",
   "execution_count": 26,
   "id": "090ab1e8-fb9e-4449-be81-a61aafb3d2f3",
   "metadata": {
    "tags": []
   },
   "outputs": [
    {
     "name": "stdout",
     "output_type": "stream",
     "text": [
      "Extracting review data from dslreports.com\n",
      "Processing page\t1\t2\t3\t4\t5\t6\t7\t8\t9\t10\t11\t12\t13\t14\t15\t16\t17\t18\t19\t20\t21\t22\t23\t24\t25\t26\t27\t28\t29\t30\t31\t32\t33\t34\t35\t36\t37\t38\t39\t40\t41\t42\t43\t44\t45\t46\t47\t48\t49\t50\t51\t52\t53\t54\t55\t56\t57\t58\t59\t60\t61\t62\t63\t64\t65\t66\t67\t68\t69\t70\t71\t72\t73\t74\t75\t76\t77\t78\t79\t80\t81\t82\t83\t84\t85\t86\t87\t88\t89\t90\t91\t92\t93\t94\t95\t96\t97\t98\t99\t100\t101\t102\t103\t104\t105\t106\t107\t108\t109\t110\t111\t112\t113\t114\t115\t116\t117\t118\t119\t120\t121\t122\tNo reviews found in this page\n"
     ]
    }
   ],
   "source": [
    "print('Extracting review data from dslreports.com')\n",
    "print('Processing page', end = '\\t')\n",
    "\n",
    "# Initialize a list that will hold the DataFrames returned by the function review_data_collection(soup)\n",
    "list_reviews_df = []\n",
    "\n",
    "pagination_flag = 'next'\n",
    "page_number = 1\n",
    "while(pagination_flag == 'next'):\n",
    "    print(page_number, end = '\\t')\n",
    "    url = 'https://www.dslreports.com/comments/412?1=1&p=' + str(page_number)\n",
    "    try:\n",
    "        response = requests.get(url, timeout = 5)\n",
    "        response.raise_for_status()\n",
    "    except requests.exceptions.HTTPError as hte:\n",
    "        print('HTTP Error:', hte)\n",
    "    except requests.exceptions.ConnectionError as coe:\n",
    "        print('Connection error:', coe)\n",
    "    except requests.exceptions.Timeout as tie:\n",
    "        print('Timeout error', tie)\n",
    "    except requests.exceptions.RequestException as ree:\n",
    "        print('Some other exception error:', ree)\n",
    "    data = response.text\n",
    "    soup = BeautifulSoup(data, 'html5lib')\n",
    "    list_reviews_df.append(review_data_collection(soup))\n",
    "    pagination_tag = soup.find('div', class_ = 'ks-pagination-links')\n",
    "    try:\n",
    "        pagination_flag = pagination_tag.li['class'][0]\n",
    "    except AttributeError as ar:\n",
    "        print(ar)\n",
    "        print(pagination_tag)\n",
    "        break\n",
    "    page_number += 1\n",
    "\n",
    "reviews_df = pd.concat(list_reviews_df, ignore_index=True)"
   ]
  },
  {
   "cell_type": "code",
   "execution_count": 27,
   "id": "b8a117de-1d4e-4a12-93bd-88aa1fefacc6",
   "metadata": {
    "tags": []
   },
   "outputs": [
    {
     "data": {
      "text/html": [
       "<div>\n",
       "<style scoped>\n",
       "    .dataframe tbody tr th:only-of-type {\n",
       "        vertical-align: middle;\n",
       "    }\n",
       "\n",
       "    .dataframe tbody tr th {\n",
       "        vertical-align: top;\n",
       "    }\n",
       "\n",
       "    .dataframe thead th {\n",
       "        text-align: right;\n",
       "    }\n",
       "</style>\n",
       "<table border=\"1\" class=\"dataframe\">\n",
       "  <thead>\n",
       "    <tr style=\"text-align: right;\">\n",
       "      <th></th>\n",
       "      <th>review_by</th>\n",
       "      <th>review_id</th>\n",
       "      <th>days_or_years_since_review</th>\n",
       "      <th>location</th>\n",
       "      <th>cost</th>\n",
       "      <th>installation_time</th>\n",
       "      <th>provider</th>\n",
       "      <th>pre_sales_information</th>\n",
       "      <th>install_co-ordination</th>\n",
       "      <th>connection_reliability</th>\n",
       "      <th>tech_support</th>\n",
       "      <th>services</th>\n",
       "      <th>value_for_money</th>\n",
       "    </tr>\n",
       "  </thead>\n",
       "  <tbody>\n",
       "    <tr>\n",
       "      <th>0</th>\n",
       "      <td>ych</td>\n",
       "      <td>96808</td>\n",
       "      <td>11 days</td>\n",
       "      <td>Montreal, QC, Canada</td>\n",
       "      <td>57</td>\n",
       "      <td>2</td>\n",
       "      <td>Bell Canada</td>\n",
       "      <td>NaN</td>\n",
       "      <td>50</td>\n",
       "      <td>50</td>\n",
       "      <td>50</td>\n",
       "      <td>50</td>\n",
       "      <td>NaN</td>\n",
       "    </tr>\n",
       "    <tr>\n",
       "      <th>1</th>\n",
       "      <td>RumClutch</td>\n",
       "      <td>95503</td>\n",
       "      <td>52 days</td>\n",
       "      <td>Georgetown, ON, Canada</td>\n",
       "      <td>70</td>\n",
       "      <td>2</td>\n",
       "      <td>Bell Canada</td>\n",
       "      <td>100</td>\n",
       "      <td>75</td>\n",
       "      <td>100</td>\n",
       "      <td>75</td>\n",
       "      <td>75</td>\n",
       "      <td>50</td>\n",
       "    </tr>\n",
       "    <tr>\n",
       "      <th>2</th>\n",
       "      <td>El Quintron</td>\n",
       "      <td>95743</td>\n",
       "      <td>65 days</td>\n",
       "      <td>Tronna</td>\n",
       "      <td>80</td>\n",
       "      <td>8</td>\n",
       "      <td>Bell Canada</td>\n",
       "      <td>75</td>\n",
       "      <td>0</td>\n",
       "      <td>100</td>\n",
       "      <td>50</td>\n",
       "      <td>75</td>\n",
       "      <td>75</td>\n",
       "    </tr>\n",
       "    <tr>\n",
       "      <th>3</th>\n",
       "      <td>techie7k</td>\n",
       "      <td>96766</td>\n",
       "      <td>100 days</td>\n",
       "      <td>undisclosed location</td>\n",
       "      <td>NaN</td>\n",
       "      <td>NaN</td>\n",
       "      <td>NaN</td>\n",
       "      <td>100</td>\n",
       "      <td>100</td>\n",
       "      <td>100</td>\n",
       "      <td>100</td>\n",
       "      <td>100</td>\n",
       "      <td>100</td>\n",
       "    </tr>\n",
       "    <tr>\n",
       "      <th>4</th>\n",
       "      <td>KlatuuBarada</td>\n",
       "      <td>96762</td>\n",
       "      <td>112 days</td>\n",
       "      <td>Laval, QC, Canada</td>\n",
       "      <td>80</td>\n",
       "      <td>2</td>\n",
       "      <td>NaN</td>\n",
       "      <td>75</td>\n",
       "      <td>75</td>\n",
       "      <td>100</td>\n",
       "      <td>50</td>\n",
       "      <td>75</td>\n",
       "      <td>50</td>\n",
       "    </tr>\n",
       "  </tbody>\n",
       "</table>\n",
       "</div>"
      ],
      "text/plain": [
       "        review_by review_id days_or_years_since_review  \\\n",
       "0           ych       96808                    11 days   \n",
       "1     RumClutch       95503                    52 days   \n",
       "2   El Quintron       95743                    65 days   \n",
       "3      techie7k       96766                   100 days   \n",
       "4  KlatuuBarada       96762                   112 days   \n",
       "\n",
       "                 location cost installation_time     provider  \\\n",
       "0    Montreal, QC, Canada   57                 2  Bell Canada   \n",
       "1  Georgetown, ON, Canada   70                 2  Bell Canada   \n",
       "2                  Tronna   80                 8  Bell Canada   \n",
       "3    undisclosed location  NaN               NaN          NaN   \n",
       "4       Laval, QC, Canada   80                 2          NaN   \n",
       "\n",
       "  pre_sales_information install_co-ordination connection_reliability  \\\n",
       "0                   NaN                    50                     50   \n",
       "1                   100                    75                    100   \n",
       "2                    75                     0                    100   \n",
       "3                   100                   100                    100   \n",
       "4                    75                    75                    100   \n",
       "\n",
       "  tech_support services value_for_money  \n",
       "0           50       50             NaN  \n",
       "1           75       75              50  \n",
       "2           50       75              75  \n",
       "3          100      100             100  \n",
       "4           50       75              50  "
      ]
     },
     "execution_count": 27,
     "metadata": {},
     "output_type": "execute_result"
    }
   ],
   "source": [
    "reviews_df.head(5)"
   ]
  },
  {
   "cell_type": "markdown",
   "id": "0770630a-e5fa-4aa3-9b6f-6fd503cd7816",
   "metadata": {},
   "source": [
    "### 3.3 Counting null values in each column"
   ]
  },
  {
   "cell_type": "code",
   "execution_count": 28,
   "id": "eb946bff-b135-42bf-b212-77a46067baad",
   "metadata": {
    "tags": []
   },
   "outputs": [
    {
     "data": {
      "text/plain": [
       "review_by                      0.082919\n",
       "review_id                      3.233831\n",
       "days_or_years_since_review     0.000000\n",
       "location                       0.000000\n",
       "cost                          12.852405\n",
       "installation_time             42.620232\n",
       "provider                      34.245439\n",
       "pre_sales_information          6.135987\n",
       "install_co-ordination          6.384743\n",
       "connection_reliability         5.140962\n",
       "tech_support                   6.965174\n",
       "services                       6.384743\n",
       "value_for_money                5.555556\n",
       "dtype: float64"
      ]
     },
     "execution_count": 28,
     "metadata": {},
     "output_type": "execute_result"
    }
   ],
   "source": [
    "reviews_df.isnull().sum()  * 100 / len(reviews_df)"
   ]
  },
  {
   "cell_type": "markdown",
   "id": "b5543c5f-9817-40ec-b588-ce8a6e2a331e",
   "metadata": {},
   "source": [
    "#### About 34% and 42% of reviews are missing the installation time and provider data. \n",
    "#### The 'provider' column doesn't hold any significant data. We know already that these reviews are for Bell Canada Internet service. We will drop this column."
   ]
  },
  {
   "cell_type": "code",
   "execution_count": 29,
   "id": "fa46ad4e-d48c-4694-a3d9-bd9ac83fc64a",
   "metadata": {},
   "outputs": [
    {
     "data": {
      "text/plain": [
       "Bell Canada    790\n",
       "Rhythms          1\n",
       "BellSouth        1\n",
       "Digital          1\n",
       "Name: provider, dtype: int64"
      ]
     },
     "execution_count": 29,
     "metadata": {},
     "output_type": "execute_result"
    }
   ],
   "source": [
    "reviews_df['provider'].value_counts()"
   ]
  },
  {
   "cell_type": "code",
   "execution_count": 30,
   "id": "7c43b14d-8d4a-461d-8ad0-978ebe7bb3a0",
   "metadata": {},
   "outputs": [],
   "source": [
    "reviews_df.drop('provider', axis=1, inplace=True)"
   ]
  },
  {
   "cell_type": "markdown",
   "id": "a33fdfa1-9f56-4180-94b0-096873a3f498",
   "metadata": {},
   "source": [
    "### 3.4 Finding the date the review was posted or last updated"
   ]
  },
  {
   "cell_type": "code",
   "execution_count": 31,
   "id": "4856c291-a3b4-4248-bb95-ef7ba9babee7",
   "metadata": {},
   "outputs": [
    {
     "data": {
      "text/plain": [
       "893     18.4 years\n",
       "1178    21.9 years\n",
       "1013    19.9 years\n",
       "1119    21.1 years\n",
       "339     13.2 years\n",
       "Name: days_or_years_since_review, dtype: object"
      ]
     },
     "execution_count": 31,
     "metadata": {},
     "output_type": "execute_result"
    }
   ],
   "source": [
    "reviews_df['days_or_years_since_review'].sample(5)"
   ]
  },
  {
   "cell_type": "code",
   "execution_count": 32,
   "id": "857ca1ca-1e0e-4a4a-83c0-f69f8548a1a8",
   "metadata": {},
   "outputs": [],
   "source": [
    "def find_date(elapsed_time):\n",
    "    ''' \n",
    "    args: elapsed_time (string) with the format 'x day(s)' or 'x year(s)' where x is the number of \n",
    "    days/years since a review was posted or last updated.\n",
    "    return: date when the review was posted or last updated.\n",
    "    '''\n",
    "    \n",
    "    num_years_or_days = elapsed_time.split(' ')\n",
    "    # We want to match both year(day) and years(days)\n",
    "    if 'year' in num_years_or_days[-1]:  \n",
    "        return pd.Timestamp.today().normalize() - pd.Timedelta(days=float(num_years_or_days[0]) * 365.25)\n",
    "    elif 'day' in num_years_or_days[-1]:\n",
    "        return pd.Timestamp.today().normalize()  - pd.Timedelta(days= float(num_years_or_days[0]))\n",
    "    "
   ]
  },
  {
   "cell_type": "code",
   "execution_count": 33,
   "id": "ecaa0334-0e1f-4d22-a939-0ce4e75957d5",
   "metadata": {},
   "outputs": [
    {
     "data": {
      "text/plain": [
       "0      2022-03-14 00:00:00.000000000\n",
       "1      2022-02-01 00:00:00.000000000\n",
       "2      2022-01-19 00:00:00.000000000\n",
       "3      2021-12-15 00:00:00.000000000\n",
       "4      2021-12-03 00:00:00.000000000\n",
       "                    ...             \n",
       "1201   1999-10-30 09:36:00.000000000\n",
       "1202   1999-09-23 21:00:00.000000000\n",
       "1203   1999-09-23 21:00:00.000000000\n",
       "1204   1999-09-23 21:00:00.000000000\n",
       "1205   1999-07-12 19:48:00.000000128\n",
       "Name: date, Length: 1206, dtype: datetime64[ns]"
      ]
     },
     "execution_count": 33,
     "metadata": {},
     "output_type": "execute_result"
    }
   ],
   "source": [
    "reviews_df['date'] = reviews_df['days_or_years_since_review'].apply(find_date)\n",
    "reviews_df['date']"
   ]
  },
  {
   "cell_type": "code",
   "execution_count": 34,
   "id": "b73ba421-d8bf-49b3-b358-61860bd1db3e",
   "metadata": {},
   "outputs": [
    {
     "data": {
      "text/plain": [
       "1177    2000-06-05\n",
       "466     2008-04-30\n",
       "846     2004-04-30\n",
       "541     2008-01-11\n",
       "64      2016-10-29\n",
       "Name: date, dtype: object"
      ]
     },
     "execution_count": 34,
     "metadata": {},
     "output_type": "execute_result"
    }
   ],
   "source": [
    "# Getting the dates from the timestamps\n",
    "reviews_df['date'] = reviews_df['date'].dt.date\n",
    "reviews_df['date'].sample(5)"
   ]
  },
  {
   "cell_type": "code",
   "execution_count": 35,
   "id": "df618653-e8f0-4e5c-94fd-001674e961bf",
   "metadata": {},
   "outputs": [],
   "source": [
    "reviews_df.drop('days_or_years_since_review', axis=1, inplace=True)"
   ]
  },
  {
   "cell_type": "code",
   "execution_count": 36,
   "id": "78dcbe90-0a30-47ab-bbd2-00fd5b7043e3",
   "metadata": {},
   "outputs": [
    {
     "data": {
      "text/html": [
       "<div>\n",
       "<style scoped>\n",
       "    .dataframe tbody tr th:only-of-type {\n",
       "        vertical-align: middle;\n",
       "    }\n",
       "\n",
       "    .dataframe tbody tr th {\n",
       "        vertical-align: top;\n",
       "    }\n",
       "\n",
       "    .dataframe thead th {\n",
       "        text-align: right;\n",
       "    }\n",
       "</style>\n",
       "<table border=\"1\" class=\"dataframe\">\n",
       "  <thead>\n",
       "    <tr style=\"text-align: right;\">\n",
       "      <th></th>\n",
       "      <th>review_by</th>\n",
       "      <th>review_id</th>\n",
       "      <th>location</th>\n",
       "      <th>cost</th>\n",
       "      <th>installation_time</th>\n",
       "      <th>pre_sales_information</th>\n",
       "      <th>install_co-ordination</th>\n",
       "      <th>connection_reliability</th>\n",
       "      <th>tech_support</th>\n",
       "      <th>services</th>\n",
       "      <th>value_for_money</th>\n",
       "      <th>date</th>\n",
       "    </tr>\n",
       "  </thead>\n",
       "  <tbody>\n",
       "    <tr>\n",
       "      <th>905</th>\n",
       "      <td>Rekognize</td>\n",
       "      <td>37876</td>\n",
       "      <td>Scarborough, ON, Canada</td>\n",
       "      <td>45</td>\n",
       "      <td>3</td>\n",
       "      <td>75</td>\n",
       "      <td>100</td>\n",
       "      <td>100</td>\n",
       "      <td>0</td>\n",
       "      <td>50</td>\n",
       "      <td>75</td>\n",
       "      <td>2003-09-23</td>\n",
       "    </tr>\n",
       "    <tr>\n",
       "      <th>550</th>\n",
       "      <td>darcmage</td>\n",
       "      <td>65928</td>\n",
       "      <td>Toronto, ON, Canada</td>\n",
       "      <td>35</td>\n",
       "      <td>14</td>\n",
       "      <td>25</td>\n",
       "      <td>50</td>\n",
       "      <td>75</td>\n",
       "      <td>0</td>\n",
       "      <td>0</td>\n",
       "      <td>25</td>\n",
       "      <td>2008-01-11</td>\n",
       "    </tr>\n",
       "    <tr>\n",
       "      <th>1176</th>\n",
       "      <td>Joem6</td>\n",
       "      <td>3420</td>\n",
       "      <td>undisclosed location</td>\n",
       "      <td>40</td>\n",
       "      <td>NaN</td>\n",
       "      <td>75</td>\n",
       "      <td>100</td>\n",
       "      <td>100</td>\n",
       "      <td>50</td>\n",
       "      <td>75</td>\n",
       "      <td>75</td>\n",
       "      <td>2000-06-05</td>\n",
       "    </tr>\n",
       "    <tr>\n",
       "      <th>676</th>\n",
       "      <td>mathy116</td>\n",
       "      <td>60210</td>\n",
       "      <td>Montreal, QC, Canada</td>\n",
       "      <td>44</td>\n",
       "      <td>NaN</td>\n",
       "      <td>100</td>\n",
       "      <td>100</td>\n",
       "      <td>100</td>\n",
       "      <td>100</td>\n",
       "      <td>100</td>\n",
       "      <td>100</td>\n",
       "      <td>2007-03-25</td>\n",
       "    </tr>\n",
       "    <tr>\n",
       "      <th>139</th>\n",
       "      <td>Tristan</td>\n",
       "      <td>81118</td>\n",
       "      <td>Ottawa, ON, Canada</td>\n",
       "      <td>NaN</td>\n",
       "      <td>NaN</td>\n",
       "      <td>0</td>\n",
       "      <td>0</td>\n",
       "      <td>0</td>\n",
       "      <td>0</td>\n",
       "      <td>0</td>\n",
       "      <td>0</td>\n",
       "      <td>2013-02-16</td>\n",
       "    </tr>\n",
       "  </tbody>\n",
       "</table>\n",
       "</div>"
      ],
      "text/plain": [
       "        review_by review_id                 location cost installation_time  \\\n",
       "905   Rekognize       37876  Scarborough, ON, Canada   45                 3   \n",
       "550    darcmage       65928      Toronto, ON, Canada   35                14   \n",
       "1176      Joem6        3420     undisclosed location   40               NaN   \n",
       "676    mathy116       60210     Montreal, QC, Canada   44               NaN   \n",
       "139     Tristan       81118       Ottawa, ON, Canada  NaN               NaN   \n",
       "\n",
       "     pre_sales_information install_co-ordination connection_reliability  \\\n",
       "905                     75                   100                    100   \n",
       "550                     25                    50                     75   \n",
       "1176                    75                   100                    100   \n",
       "676                    100                   100                    100   \n",
       "139                      0                     0                      0   \n",
       "\n",
       "     tech_support services value_for_money        date  \n",
       "905             0       50              75  2003-09-23  \n",
       "550             0        0              25  2008-01-11  \n",
       "1176           50       75              75  2000-06-05  \n",
       "676           100      100             100  2007-03-25  \n",
       "139             0        0               0  2013-02-16  "
      ]
     },
     "execution_count": 36,
     "metadata": {},
     "output_type": "execute_result"
    }
   ],
   "source": [
    "reviews_df.sample(5)"
   ]
  },
  {
   "cell_type": "markdown",
   "id": "8d3932b3-e964-496b-8301-1962d0d666b4",
   "metadata": {},
   "source": [
    "## 4. Writing the Pandas DataFrame to a CSV file"
   ]
  },
  {
   "cell_type": "code",
   "execution_count": 37,
   "id": "3f97365e-d7a4-42b5-8fcc-0ad90ffda768",
   "metadata": {},
   "outputs": [],
   "source": [
    "import os\n",
    "os.makedirs('data', exist_ok=True)\n",
    "\n",
    "with open('data/dslreports_reviews_Bell_Internet.csv',  'w') as f:\n",
    "    reviews_df.to_csv(f)"
   ]
  },
  {
   "cell_type": "markdown",
   "id": "0da45441-5cf0-4cee-b762-f70ac3d1210d",
   "metadata": {},
   "source": [
    "## 5. Future work\n",
    "\n",
    "In this notebook, we used BeautifulSoup to extract review data of the ISP Bell Canada from dslreports.com and save it to a csv file.\n",
    "\n",
    "This will later be extended to include:\n",
    "\n",
    "1. Extracting review data of other Canadian ISPs.\n",
    "2. Visualizing and analysing review data."
   ]
  }
 ],
 "metadata": {
  "kernelspec": {
   "display_name": "Python 3 (ipykernel)",
   "language": "python",
   "name": "python3"
  },
  "language_info": {
   "codemirror_mode": {
    "name": "ipython",
    "version": 3
   },
   "file_extension": ".py",
   "mimetype": "text/x-python",
   "name": "python",
   "nbconvert_exporter": "python",
   "pygments_lexer": "ipython3",
   "version": "3.10.0"
  }
 },
 "nbformat": 4,
 "nbformat_minor": 5
}
