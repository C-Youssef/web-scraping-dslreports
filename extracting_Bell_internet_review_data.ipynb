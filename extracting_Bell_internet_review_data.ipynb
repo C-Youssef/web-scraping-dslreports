{
 "cells": [
  {
   "cell_type": "markdown",
   "id": "43a0dbbc-17ec-4ab8-ba6e-b04e66976095",
   "metadata": {},
   "source": [
    "# Extracting Bell Internet review data from dslreports.com\n",
    "\n",
    "### Using BeautifulSoup to extract review data of the ISP Bell Canada from dslreports.com"
   ]
  },
  {
   "cell_type": "code",
   "execution_count": 1,
   "id": "aab23a1c-7aec-4bb5-916c-364f2d95cd26",
   "metadata": {},
   "outputs": [],
   "source": [
    "import os\n",
    "import pandas as pd\n",
    "import numpy as np\n",
    "import requests\n",
    "from bs4 import BeautifulSoup\n",
    "import re\n",
    "import matplotlib.pyplot as plt\n",
    "import time\n",
    "from datetime import date, timedelta"
   ]
  },
  {
   "cell_type": "markdown",
   "id": "7cb0ea20-e7a1-426c-b6b2-05a13371a0c3",
   "metadata": {
    "tags": []
   },
   "source": [
    "## 1. Extracting data from a single web page\n",
    "### The web page https://www.dslreports.com/comments/412?1=1&p=1 holds the most recent reviews of Bell Internet."
   ]
  },
  {
   "cell_type": "code",
   "execution_count": 2,
   "id": "e34b29d6-6b76-48f4-b6b7-0ed6739adf7c",
   "metadata": {},
   "outputs": [
    {
     "data": {
      "text/plain": [
       "'<!DOCTYPE HTML PUBLIC \"-//W3C//DTD HTML 4.01 Transitional//EN\"\\n   \"http://www.w3.org/TR/html4/loose.dtd\">\\n<html  prefix=\"og: http://ogp.me/ns#\"><head><meta http-equiv=\"X-UA-Compatible\" content=\"IE=EDGE\">\\n<meta http-equiv=\"cache-control\" content=\"no-cache\">\\n<link rel=\"canonical\" href=\"http://www.dslreports.com/comments/412?1=1&p=1\" >\\n<title>Bell Fibe Internet : All reviews | DSLReports, ISP Information</title><meta http-equiv=\"Content-type\" content=\"text/html; charset=UTF-8\">\\n<meta name=\"description\" content=\"Bell Fibe Internet : All reviews\">\\n<link rel=\"apple-touch-icon-precomposed\" sizes=\"57x57\" href=\"/apple-touch-icon-57x57.png?1\">\\n<link rel=\"apple-touch-icon-precomposed\" sizes=\"114x114\" href=\"/apple-touch-icon-114x114.png?1\" >\\n<link rel=\"apple-touch-icon-precomposed\" sizes=\"72x72\" href=\"/apple-touch-icon-72x72.png?1\" >\\n<link rel=\"apple-touch-icon-precomposed\" sizes=\"144x144\" href=\"/apple-touch-icon-144x144.png?1\" >\\n<link rel=\"apple-touch-icon-precomposed\" sizes=\"120x120\" href=\"/appl'"
      ]
     },
     "execution_count": 2,
     "metadata": {},
     "output_type": "execute_result"
    }
   ],
   "source": [
    "url = 'https://www.dslreports.com/comments/412?1=1&p=1'\n",
    "\n",
    "data = requests.get(url).text\n",
    "data[:1000]  # display the first 30 characters of the string data."
   ]
  },
  {
   "cell_type": "code",
   "execution_count": 3,
   "id": "1923ab42-d1da-4cc4-b8ea-0fcd1ec623c1",
   "metadata": {},
   "outputs": [
    {
     "data": {
      "text/plain": [
       "bs4.BeautifulSoup"
      ]
     },
     "execution_count": 3,
     "metadata": {},
     "output_type": "execute_result"
    }
   ],
   "source": [
    "soup = BeautifulSoup(data, 'html5lib')\n",
    "type(soup)"
   ]
  },
  {
   "cell_type": "markdown",
   "id": "656ec3f1-de66-4428-9fbc-3eb316eac59c",
   "metadata": {
    "tags": [],
    "toc-hr-collapsed": true
   },
   "source": [
    "### 1.1 Looking inside the soup"
   ]
  },
  {
   "cell_type": "code",
   "execution_count": 4,
   "id": "b4484e25-e53d-4d3b-9fe6-ac27ffacfbc3",
   "metadata": {},
   "outputs": [
    {
     "data": {
      "text/plain": [
       "'Bell Fibe Internet : All reviews | DSLReports, ISP Information'"
      ]
     },
     "execution_count": 4,
     "metadata": {},
     "output_type": "execute_result"
    }
   ],
   "source": [
    "soup.title.text"
   ]
  },
  {
   "cell_type": "code",
   "execution_count": 5,
   "id": "ead75f54-7996-4dbd-b136-9cb7677799ce",
   "metadata": {
    "tags": []
   },
   "outputs": [
    {
     "data": {
      "text/plain": [
       "'\\n\\n\\nBell Fibe Internet : All reviews | DSLReports, ISP Information\\n\\n\\n\\n\\n\\n\\n\\n\\n\\n\\n\\n\\n\\n\\n\\n\\n\\n\\n\\n\\n\\nvar deferredJSFiles;\\nvar deferredJSProgressLength=0;\\nvar deferredJSProgress=0;\\nvar deferredJSFileDone = new Array();\\n\\nvar _deferredJSFiles = [\\'//i.dslr.net/css/dslrjsbundle.js?1622595206\\', \\'\\'];\\n\\n\\nfunction _downloadJSAtOnload() {\\n    var s = document.getElementsByTagName(\"script\");\\n    for(var i=0; i<s.length; i++) {\\n        if (s[i].src.indexOf(_deferredJSFiles[0]) > -1) {\\n            return;\\n        }\\n    }\\n    deferredJSFiles = _deferredJSFiles.slice();\\n    deferredJSProgressLength = deferredJSFiles.length - 1;\\n    downloadJSAtOnload();\\n}\\n\\nfunction downloadJSAtOnload() {\\n   try {\\n      if (!deferredJSFiles.length)\\n          return;\\n      var deferredJSFile = deferredJSFiles.shift();\\n      if (deferredJSFile.length) {\\n          if (!deferredJSFileDone[deferredJSFile]) {\\n              var e = document.createElement(\\'script\\');\\n              e.src = deferredJSFile;\\n              \\n              // onrea'"
      ]
     },
     "execution_count": 5,
     "metadata": {},
     "output_type": "execute_result"
    }
   ],
   "source": [
    "soup.get_text()[:1000]"
   ]
  },
  {
   "cell_type": "code",
   "execution_count": 6,
   "id": "14992cd7-52ae-4139-8373-3f1e8d35d5ae",
   "metadata": {
    "tags": []
   },
   "outputs": [
    {
     "name": "stdout",
     "output_type": "stream",
     "text": [
      "<!DOCTYPE html PUBLIC \"-//W3C//DTD HTML 4.01 Transitional//EN\" \"http://www.w3.org/TR/html4/loose.dtd\">\n",
      "<html prefix=\"og: http://ogp.me/ns#\">\n",
      " <head>\n",
      "  <meta content=\"IE=EDGE\" http-equiv=\"X-UA-Compatible\"/>\n",
      "  <meta content=\"no-cache\" http-equiv=\"cache-control\"/>\n",
      "  <link href=\"http://www.dslreports.com/comments/412?1=1&amp;p=1\" rel=\"canonical\"/>\n",
      "  <title>\n",
      "   Bell Fibe Internet : All reviews | DSLReports, ISP Information\n",
      "  </title>\n",
      "  <meta content=\"text/html; charset=utf-8\" http-equiv=\"Content-type\"/>\n",
      "  <meta content=\"Bell Fibe Internet : All reviews\" name=\"description\"/>\n",
      "  <link href=\"/apple-touch-icon-57x57.png?1\" rel=\"apple-touch-icon-precomposed\" sizes=\"57x57\"/>\n",
      "  <link href=\"/apple-touch-icon-114x114.png?1\" rel=\"apple-touch-icon-precomposed\" sizes=\"114x114\"/>\n",
      "  <link href=\"/apple-touch-icon-72x72.png?1\" rel=\"apple-touch-icon-precomposed\" sizes=\"72x72\"/>\n",
      "  <link href=\"/apple-touch-icon-144x144.png?1\" rel=\"apple-touch-icon-precomposed\" sizes=\"144x144\"/>\n",
      "  <link href=\"/apple-touch-icon-\n"
     ]
    }
   ],
   "source": [
    "print(soup.prettify()[:1000])"
   ]
  },
  {
   "cell_type": "markdown",
   "id": "8c968545-922f-4255-923e-355e8e648eae",
   "metadata": {
    "tags": []
   },
   "source": [
    "### 1.2 Extracting data from the first review"
   ]
  },
  {
   "cell_type": "code",
   "execution_count": 7,
   "id": "08ff07ab-8afd-427c-a9a9-d99cce826b2f",
   "metadata": {
    "tags": []
   },
   "outputs": [
    {
     "name": "stdout",
     "output_type": "stream",
     "text": [
      "<div>\n",
      " <a name=\"review1\">\n",
      " </a>\n",
      " <table width=\"100%\">\n",
      "  <tbody>\n",
      "   <tr>\n",
      "    <td align=\"LEFT\" valign=\"TOP\">\n",
      "     <div class=\"wiki\">\n",
      "      <h4>\n",
      "       Review by\n",
      "       <b>\n",
      "        ych\n",
      "       </b>\n",
      "       <a href=\"/useremail/u/2012275\">\n",
      "        <img alt=\"See Profile\" border=\"0\" height=\"11\" src=\"//i.dslr.net/bb/profile.gif\" width=\"16\"/>\n",
      "       </a>\n",
      "       <a name=\"96808\">\n",
      "       </a>\n",
      "      </h4>\n",
      "     </div>\n",
      "     <ul class=\"niceList\">\n",
      "      <li>\n",
      "       Location: Montreal, QC, Canada\n",
      "       <br/>\n",
      "      </li>\n",
      "      <li>\n",
      "       Cost: $57 per month (12 month contract)\n",
      "      </li>\n",
      "      <li>\n",
      "       Install:  about\n",
      "       <b>\n",
      "        2 days\n",
      "       </b>\n",
      "      </li>\n",
      "      <li>\n",
      "       No Cap\n",
      "      </li>\n",
      "      <li>\n",
      "       <img alt=\"Telco party\" border=\"0\" height=\"16\" src=\"//i.dslr.net/silk/bell.png\" style=\"vertical-align:middle;\" title=\"Telco party\" width=\"16\"/>\n",
      "       <b>\n",
      "        Bell Canada\n",
      "       </b>\n",
      "      </li>\n",
      "     </ul>\n",
      "     <span style=\"font-size:120%; line-height:1.5em;\">\n",
      "     </span>\n",
      "    </td>\n",
      "    <td align=\"RIGHT\" nowrap=\"\" valign=\"CENTER\">\n",
      "     <b>\n",
      "      Install Co-ordination\n",
      "     </b>\n",
      "     :\n",
      "     <img align=\"ABSMIDDLE\" height=\"10\" src=\"//i.dslr.net/bars/50_sm.gif\" width=\"70\"/>\n",
      "     <br/>\n",
      "     <b>\n",
      "      Connection reliability\n",
      "     </b>\n",
      "     :\n",
      "     <img align=\"ABSMIDDLE\" height=\"10\" src=\"//i.dslr.net/bars/50_sm.gif\" width=\"70\"/>\n",
      "     <br/>\n",
      "     <b>\n",
      "      Tech Support\n",
      "     </b>\n",
      "     :\n",
      "     <img align=\"ABSMIDDLE\" height=\"10\" src=\"//i.dslr.net/bars/50_sm.gif\" width=\"70\"/>\n",
      "     <br/>\n",
      "     <b>\n",
      "      Services\n",
      "     </b>\n",
      "     :\n",
      "     <img align=\"ABSMIDDLE\" height=\"10\" src=\"//i.dslr.net/bars/50_sm.gif\" width=\"70\"/>\n",
      "     <br/>\n",
      "     <small>\n",
      "      <font color=\"#808080\">\n",
      "       (ratings match consensus)\n",
      "       <br/>\n",
      "      </font>\n",
      "     </small>\n",
      "    </td>\n",
      "   </tr>\n",
      "  </tbody>\n",
      " </table>\n",
      " <br/>\n",
      " See ratings above.\n",
      " <br/>\n",
      " <div style=\"float:right\">\n",
      "  <br/>\n",
      "  <small>\n",
      "   member for 47 days,  7 visits, last login: a few hours ago\n",
      "  </small>\n",
      "  <br/>\n",
      "  updated 46 days ago\n",
      " </div>\n",
      " <div style=\"clear: both;\">\n",
      " </div>\n",
      " <br/>\n",
      " <table border=\"0\" cellpadding=\"0\" cellspacing=\"0\">\n",
      "  <!-- end follow review,96808 -->\n",
      "  <tbody>\n",
      "   <tr>\n",
      "    <td colspan=\"10\">\n",
      "     <img src=\"//i.dslr.net/vert.gif\"/>\n",
      "    </td>\n",
      "   </tr>\n",
      "   <tr>\n",
      "    <td colspan=\"10\">\n",
      "     <div style=\"border:1px dotted #CCCCCC; padding:4px;\">\n",
      "      <a href=\"/speak/review,96808?enc=64urlL2NvbW1lbnRzLzQxMj8xPTEmcD0x\">\n",
      "       <b>\n",
      "        your comment..\n",
      "       </b>\n",
      "      </a>\n",
      "     </div>\n",
      "    </td>\n",
      "   </tr>\n",
      "   <!-- close 1  mode=full -->\n",
      "  </tbody>\n",
      " </table>\n",
      " <div class=\"soft-tbl-2 borderless\">\n",
      "  <table align=\"center\" border=\"0\" cellpadding=\"3\" cellspacing=\"0\" width=\"96%\">\n",
      "   <tbody>\n",
      "    <tr>\n",
      "    </tr>\n",
      "   </tbody>\n",
      "  </table>\n",
      " </div>\n",
      " <br/>\n",
      " <br/>\n",
      " <br/>\n",
      " <br/>\n",
      " <br/>\n",
      " <br/>\n",
      "</div>\n",
      "\n"
     ]
    }
   ],
   "source": [
    "review = soup.find('a', {'name':'review1'}).parent\n",
    "print(review.prettify())"
   ]
  },
  {
   "cell_type": "markdown",
   "id": "54278737-d2b2-42a3-b5a8-54c950e32e60",
   "metadata": {
    "tags": [],
    "toc-hr-collapsed": true
   },
   "source": [
    "### 1.2.1 Let us first try to get the date the review was posted or updated"
   ]
  },
  {
   "cell_type": "code",
   "execution_count": 8,
   "id": "dd6be890-d71b-4c0d-8141-354f08513119",
   "metadata": {},
   "outputs": [
    {
     "data": {
      "text/plain": [
       "5"
      ]
     },
     "execution_count": 8,
     "metadata": {},
     "output_type": "execute_result"
    }
   ],
   "source": [
    "# The 2nd div tag in review1 includes the elapsed time since the review was posted or updated\n",
    "len(review.find_all('div'))"
   ]
  },
  {
   "cell_type": "code",
   "execution_count": 9,
   "id": "effca0f8-0d1d-491a-ac3d-8604cce80c20",
   "metadata": {},
   "outputs": [
    {
     "data": {
      "text/plain": [
       "<div style=\"float:right\"><br/><small>member for 47 days,  7 visits, last login: a few hours ago</small><br/>updated 46 days ago</div>"
      ]
     },
     "execution_count": 9,
     "metadata": {},
     "output_type": "execute_result"
    }
   ],
   "source": [
    "review.find_all('div')[1]"
   ]
  },
  {
   "cell_type": "code",
   "execution_count": 10,
   "id": "7be28fc3-751e-4f5f-af62-6fa35fb601be",
   "metadata": {},
   "outputs": [
    {
     "data": {
      "text/plain": [
       "'46 days'"
      ]
     },
     "execution_count": 10,
     "metadata": {},
     "output_type": "execute_result"
    }
   ],
   "source": [
    "# The elapsed time since the review was posted or updated\n",
    "# We w will store the attributes of the review in a dict\n",
    "review_data = dict()\n",
    "review_date_string = review.find_all('div')[1].find(string= re.compile('(updated)|(lodged)'))\n",
    "review_data['days_or_years_since_review'] = ' '.join(review_date_string.split(' ')[1:3])\n",
    "review_data['days_or_years_since_review']"
   ]
  },
  {
   "cell_type": "markdown",
   "id": "4201e1a7-dd0b-4477-8d4f-431da411bec9",
   "metadata": {
    "toc-hr-collapsed": true
   },
   "source": [
    "### 1.2.2 Getting the other attributes of the first review  "
   ]
  },
  {
   "cell_type": "code",
   "execution_count": 11,
   "id": "a057f46a-628c-4b93-8eb9-1ff98826b790",
   "metadata": {
    "tags": []
   },
   "outputs": [
    {
     "name": "stdout",
     "output_type": "stream",
     "text": [
      "<table width=\"100%\">\n",
      " <tbody>\n",
      "  <tr>\n",
      "   <td align=\"LEFT\" valign=\"TOP\">\n",
      "    <div class=\"wiki\">\n",
      "     <h4>\n",
      "      Review by\n",
      "      <b>\n",
      "       ych\n",
      "      </b>\n",
      "      <a href=\"/useremail/u/2012275\">\n",
      "       <img alt=\"See Profile\" border=\"0\" height=\"11\" src=\"//i.dslr.net/bb/profile.gif\" width=\"16\"/>\n",
      "      </a>\n",
      "      <a name=\"96808\">\n",
      "      </a>\n",
      "     </h4>\n",
      "    </div>\n",
      "    <ul class=\"niceList\">\n",
      "     <li>\n",
      "      Location: Montreal, QC, Canada\n",
      "      <br/>\n",
      "     </li>\n",
      "     <li>\n",
      "      Cost: $57 per month (12 month contract)\n",
      "     </li>\n",
      "     <li>\n",
      "      Install:  about\n",
      "      <b>\n",
      "       2 days\n",
      "      </b>\n",
      "     </li>\n",
      "     <li>\n",
      "      No Cap\n",
      "     </li>\n",
      "     <li>\n",
      "      <img alt=\"Telco party\" border=\"0\" height=\"16\" src=\"//i.dslr.net/silk/bell.png\" style=\"vertical-align:middle;\" title=\"Telco party\" width=\"16\"/>\n",
      "      <b>\n",
      "       Bell Canada\n",
      "      </b>\n",
      "     </li>\n",
      "    </ul>\n",
      "    <span style=\"font-size:120%; line-height:1.5em;\">\n",
      "    </span>\n",
      "   </td>\n",
      "   <td align=\"RIGHT\" nowrap=\"\" valign=\"CENTER\">\n",
      "    <b>\n",
      "     Install Co-ordination\n",
      "    </b>\n",
      "    :\n",
      "    <img align=\"ABSMIDDLE\" height=\"10\" src=\"//i.dslr.net/bars/50_sm.gif\" width=\"70\"/>\n",
      "    <br/>\n",
      "    <b>\n",
      "     Connection reliability\n",
      "    </b>\n",
      "    :\n",
      "    <img align=\"ABSMIDDLE\" height=\"10\" src=\"//i.dslr.net/bars/50_sm.gif\" width=\"70\"/>\n",
      "    <br/>\n",
      "    <b>\n",
      "     Tech Support\n",
      "    </b>\n",
      "    :\n",
      "    <img align=\"ABSMIDDLE\" height=\"10\" src=\"//i.dslr.net/bars/50_sm.gif\" width=\"70\"/>\n",
      "    <br/>\n",
      "    <b>\n",
      "     Services\n",
      "    </b>\n",
      "    :\n",
      "    <img align=\"ABSMIDDLE\" height=\"10\" src=\"//i.dslr.net/bars/50_sm.gif\" width=\"70\"/>\n",
      "    <br/>\n",
      "    <small>\n",
      "     <font color=\"#808080\">\n",
      "      (ratings match consensus)\n",
      "      <br/>\n",
      "     </font>\n",
      "    </small>\n",
      "   </td>\n",
      "  </tr>\n",
      " </tbody>\n",
      "</table>\n",
      "\n"
     ]
    }
   ],
   "source": [
    "# The first table within review1 includes all the required data aside from the posting date.\n",
    "review_table = review.find('table')\n",
    "print(review_table.prettify())"
   ]
  },
  {
   "cell_type": "code",
   "execution_count": 12,
   "id": "c3674b86-19e9-4dda-a4d4-cf5e6acb4917",
   "metadata": {
    "tags": []
   },
   "outputs": [
    {
     "name": "stdout",
     "output_type": "stream",
     "text": [
      "Number of rows: 1\n",
      "Number of columns: 2\n"
     ]
    }
   ],
   "source": [
    "# The table has only two cells as you can see below. \n",
    "print('Number of rows:', len(review_table.find_all('tr')))\n",
    "print('Number of columns:',len(review_table.find_all('td')))"
   ]
  },
  {
   "cell_type": "markdown",
   "id": "93f26907-57d5-409e-9f3b-ec38fc38843f",
   "metadata": {},
   "source": [
    "#### Extracting data from the first cell"
   ]
  },
  {
   "cell_type": "code",
   "execution_count": 13,
   "id": "ffcbd9bb-45d1-4051-8586-82d8674e37f4",
   "metadata": {
    "tags": []
   },
   "outputs": [
    {
     "name": "stdout",
     "output_type": "stream",
     "text": [
      "<td align=\"LEFT\" valign=\"TOP\">\n",
      " <div class=\"wiki\">\n",
      "  <h4>\n",
      "   Review by\n",
      "   <b>\n",
      "    ych\n",
      "   </b>\n",
      "   <a href=\"/useremail/u/2012275\">\n",
      "    <img alt=\"See Profile\" border=\"0\" height=\"11\" src=\"//i.dslr.net/bb/profile.gif\" width=\"16\"/>\n",
      "   </a>\n",
      "   <a name=\"96808\">\n",
      "   </a>\n",
      "  </h4>\n",
      " </div>\n",
      " <ul class=\"niceList\">\n",
      "  <li>\n",
      "   Location: Montreal, QC, Canada\n",
      "   <br/>\n",
      "  </li>\n",
      "  <li>\n",
      "   Cost: $57 per month (12 month contract)\n",
      "  </li>\n",
      "  <li>\n",
      "   Install:  about\n",
      "   <b>\n",
      "    2 days\n",
      "   </b>\n",
      "  </li>\n",
      "  <li>\n",
      "   No Cap\n",
      "  </li>\n",
      "  <li>\n",
      "   <img alt=\"Telco party\" border=\"0\" height=\"16\" src=\"//i.dslr.net/silk/bell.png\" style=\"vertical-align:middle;\" title=\"Telco party\" width=\"16\"/>\n",
      "   <b>\n",
      "    Bell Canada\n",
      "   </b>\n",
      "  </li>\n",
      " </ul>\n",
      " <span style=\"font-size:120%; line-height:1.5em;\">\n",
      " </span>\n",
      "</td>\n",
      "\n"
     ]
    }
   ],
   "source": [
    "first_cell = review_table.find_all('td')[0]\n",
    "print(first_cell.prettify())"
   ]
  },
  {
   "cell_type": "code",
   "execution_count": 14,
   "id": "bc8b79a4-96c3-4f69-9dea-028cb05ecd37",
   "metadata": {
    "tags": []
   },
   "outputs": [
    {
     "name": "stdout",
     "output_type": "stream",
     "text": [
      "{'days_or_years_since_review': '46 days', 'review_by': 'ych', 'name': '96808', 'location': 'Montreal, QC, Canada', 'cost': '57', 'install': '2', 'provider': 'Bell Canada'}\n"
     ]
    }
   ],
   "source": [
    "try:\n",
    "    rev_by = first_cell.find('div').text.split(' ')\n",
    "    if rev_by[0].lower() + '_' + rev_by[1] == 'review_by':\n",
    "        review_data['review_by'] = ' '.join(rev_by[2:]).strip()\n",
    "except AttributeError:\n",
    "    pass\n",
    "\n",
    "try:\n",
    "    review_data['name'] = first_cell.find_all('a')[1]['name']\n",
    "except AttributeError:\n",
    "    pass\n",
    "\n",
    "for item in first_cell.find_all('li'):\n",
    "    item = item.text.split(' ')\n",
    "    key = item[0].strip(':').lower()  \n",
    "    if key == 'location':\n",
    "        review_data[key] = ' '.join(item[1:])\n",
    "    elif key == 'cost':\n",
    "       #review_data[key] = re.findall('^(?=\\D*)\\$(\\d+)(?=\\D+)',' '.join(item[1:]))[0]\n",
    "        val = item[1].strip('$')\n",
    "        if val.isdigit():\n",
    "            review_data[key] = val\n",
    "    elif key == 'install':\n",
    "       #review_data[key] = item[3]\n",
    "       review_data[key] = re.findall('^\\D*(\\d+)\\D*', ' '.join(item[1:]))[0]\n",
    "\n",
    "try:\n",
    "    review_data['provider'] = first_cell.find('img', {'alt': 'Telco party'}).find_next_sibling('b').text\n",
    "except AttributeError:\n",
    "    pass\n",
    "\n",
    "print(review_data)"
   ]
  },
  {
   "cell_type": "markdown",
   "id": "341fd4a2-9f33-4ce3-aeac-1efb3309048a",
   "metadata": {},
   "source": [
    "#### Extracting data from the second cell"
   ]
  },
  {
   "cell_type": "code",
   "execution_count": 15,
   "id": "d0ab727d-cb37-4a85-b9c9-4a8755a727a7",
   "metadata": {
    "tags": []
   },
   "outputs": [
    {
     "name": "stdout",
     "output_type": "stream",
     "text": [
      "<td align=\"RIGHT\" nowrap=\"\" valign=\"CENTER\">\n",
      " <b>\n",
      "  Install Co-ordination\n",
      " </b>\n",
      " :\n",
      " <img align=\"ABSMIDDLE\" height=\"10\" src=\"//i.dslr.net/bars/50_sm.gif\" width=\"70\"/>\n",
      " <br/>\n",
      " <b>\n",
      "  Connection reliability\n",
      " </b>\n",
      " :\n",
      " <img align=\"ABSMIDDLE\" height=\"10\" src=\"//i.dslr.net/bars/50_sm.gif\" width=\"70\"/>\n",
      " <br/>\n",
      " <b>\n",
      "  Tech Support\n",
      " </b>\n",
      " :\n",
      " <img align=\"ABSMIDDLE\" height=\"10\" src=\"//i.dslr.net/bars/50_sm.gif\" width=\"70\"/>\n",
      " <br/>\n",
      " <b>\n",
      "  Services\n",
      " </b>\n",
      " :\n",
      " <img align=\"ABSMIDDLE\" height=\"10\" src=\"//i.dslr.net/bars/50_sm.gif\" width=\"70\"/>\n",
      " <br/>\n",
      " <small>\n",
      "  <font color=\"#808080\">\n",
      "   (ratings match consensus)\n",
      "   <br/>\n",
      "  </font>\n",
      " </small>\n",
      "</td>\n"
     ]
    }
   ],
   "source": [
    "second_cell = review_table.find_all('td')[1]\n",
    "print(second_cell.prettify())"
   ]
  },
  {
   "cell_type": "code",
   "execution_count": 16,
   "id": "f9854b1b-1658-4038-a63d-49d485931715",
   "metadata": {},
   "outputs": [
    {
     "data": {
      "text/plain": [
       "{'days_or_years_since_review': '46 days',\n",
       " 'review_by': 'ych',\n",
       " 'name': '96808',\n",
       " 'location': 'Montreal, QC, Canada',\n",
       " 'cost': '57',\n",
       " 'install': '2',\n",
       " 'provider': 'Bell Canada',\n",
       " 'install_co-ordination': '50',\n",
       " 'connection_reliability': '50',\n",
       " 'tech_support': '50',\n",
       " 'services': '50'}"
      ]
     },
     "execution_count": 16,
     "metadata": {},
     "output_type": "execute_result"
    }
   ],
   "source": [
    "for (key, value)  in zip(second_cell.find_all('b'), second_cell.find_all('img')):\n",
    "    key = key.text\n",
    "    key = '_'.join(key.split(' ')).lower()\n",
    "    review_data[key]  = re.findall('\\D*(\\d*)', value['src'])[0]\n",
    "    \n",
    "review_data"
   ]
  },
  {
   "cell_type": "markdown",
   "id": "e6bdd8d2-a029-4528-8ba7-9514575f77a1",
   "metadata": {
    "tags": [],
    "toc-hr-collapsed": true
   },
   "source": [
    "### 1.3 Creating a list that holds all reviews in a single web page"
   ]
  },
  {
   "cell_type": "code",
   "execution_count": 17,
   "id": "625ae735-a2fa-4bf1-b2f7-7063607484f5",
   "metadata": {
    "tags": []
   },
   "outputs": [
    {
     "data": {
      "text/plain": [
       "[<a name=\"review1\"> </a>,\n",
       " <a name=\"review2\"> </a>,\n",
       " <a name=\"review3\"> </a>,\n",
       " <a name=\"review4\"> </a>,\n",
       " <a name=\"review5\"> </a>,\n",
       " <a name=\"review6\"> </a>,\n",
       " <a name=\"review7\"> </a>,\n",
       " <a name=\"review8\"> </a>,\n",
       " <a name=\"review9\"> </a>,\n",
       " <a name=\"review10\"> </a>]"
      ]
     },
     "execution_count": 17,
     "metadata": {},
     "output_type": "execute_result"
    }
   ],
   "source": [
    "# Find all reviews in a single web page:\n",
    "reviews_list = soup.find_all('a', {'name':re.compile('review\\d')})\n",
    "reviews_list"
   ]
  },
  {
   "cell_type": "code",
   "execution_count": 18,
   "id": "909ab2bd-2dca-4d14-ac50-38bf043a59b5",
   "metadata": {
    "tags": []
   },
   "outputs": [
    {
     "name": "stdout",
     "output_type": "stream",
     "text": [
      "<div>\n",
      " <a name=\"review1\">\n",
      " </a>\n",
      " <table width=\"100%\">\n",
      "  <tbody>\n",
      "   <tr>\n",
      "    <td align=\"LEFT\" valign=\"TOP\">\n",
      "     <div class=\"wiki\">\n",
      "      <h4>\n",
      "       Review by\n",
      "       <b>\n",
      "        ych\n",
      "       </b>\n",
      "       <a href=\"/useremail/u/2012275\">\n",
      "        <img alt=\"See Profile\" border=\"0\" height=\"11\" src=\"//i.dslr.net/bb/profile.gif\" width=\"16\"/>\n",
      "       </a>\n",
      "       <a name=\"96808\">\n",
      "       </a>\n",
      "      </h4>\n",
      "     </div>\n",
      "     <ul class=\"niceList\">\n",
      "      <li>\n",
      "       Location: Montreal, QC, Canada\n",
      "       <br/>\n",
      "      </li>\n",
      "      <li>\n",
      "       Cost: $57 per month (12 month contract)\n",
      "      </li>\n",
      "      <li>\n",
      "       Install:  about\n",
      "       <b>\n",
      "        2 days\n",
      "       </b>\n",
      "      </li>\n",
      "      <li>\n",
      "       No Cap\n",
      "      </li>\n",
      "      <li>\n",
      "       <img alt=\"Telco party\" border=\"0\" height=\"16\" src=\"//i.dslr.net/silk/bell.png\" style=\"vertical-align:middle;\" title=\"Telco party\" width=\"16\"/>\n",
      "       <b>\n",
      "        Bell Canada\n",
      "       </b>\n",
      "      </li>\n",
      "     </ul>\n",
      "     <span style=\"font-size:120%; line-height:1.5em;\">\n",
      "     </span>\n",
      "    </td>\n",
      "    <td align=\"RIGHT\" nowrap=\"\" valign=\"CENTER\">\n",
      "     <b>\n",
      "      Install Co-ordination\n",
      "     </b>\n",
      "     :\n",
      "     <img align=\"ABSMIDDLE\" height=\"10\" src=\"//i.dslr.net/bars/50_sm.gif\" width=\"70\"/>\n",
      "     <br/>\n",
      "     <b>\n",
      "      Connection reliability\n",
      "     </b>\n",
      "     :\n",
      "     <img align=\"ABSMIDDLE\" height=\"10\" src=\"//i.dslr.net/bars/50_sm.gif\" width=\"70\"/>\n",
      "     <br/>\n",
      "     <b>\n",
      "      Tech Support\n",
      "     </b>\n",
      "     :\n",
      "     <img align=\"ABSMIDDLE\" height=\"10\" src=\"//i.dslr.net/bars/50_sm.gif\" width=\"70\"/>\n",
      "     <br/>\n",
      "     <b>\n",
      "      Services\n",
      "     </b>\n",
      "     :\n",
      "     <img align=\"ABSMIDDLE\" height=\"10\" src=\"//i.dslr.net/bars/50_sm.gif\" width=\"70\"/>\n",
      "     <br/>\n",
      "     <small>\n",
      "      <font color=\"#808080\">\n",
      "       (ratings match consensus)\n",
      "       <br/>\n",
      "      </font>\n",
      "     </small>\n",
      "    </td>\n",
      "   </tr>\n",
      "  </tbody>\n",
      " </table>\n",
      " <br/>\n",
      " See ratings above.\n",
      " <br/>\n",
      " <div style=\"float:right\">\n",
      "  <br/>\n",
      "  <small>\n",
      "   member for 47 days,  7 visits, last login: a few hours ago\n",
      "  </small>\n",
      "  <br/>\n",
      "  updated 46 days ago\n",
      " </div>\n",
      " <div style=\"clear: both;\">\n",
      " </div>\n",
      " <br/>\n",
      " <table border=\"0\" cellpadding=\"0\" cellspacing=\"0\">\n",
      "  <!-- end follow review,96808 -->\n",
      "  <tbody>\n",
      "   <tr>\n",
      "    <td colspan=\"10\">\n",
      "     <img src=\"//i.dslr.net/vert.gif\"/>\n",
      "    </td>\n",
      "   </tr>\n",
      "   <tr>\n",
      "    <td colspan=\"10\">\n",
      "     <div style=\"border:1px dotted #CCCCCC; padding:4px;\">\n",
      "      <a href=\"/speak/review,96808?enc=64urlL2NvbW1lbnRzLzQxMj8xPTEmcD0x\">\n",
      "       <b>\n",
      "        your comment..\n",
      "       </b>\n",
      "      </a>\n",
      "     </div>\n",
      "    </td>\n",
      "   </tr>\n",
      "   <!-- close 1  mode=full -->\n",
      "  </tbody>\n",
      " </table>\n",
      " <div class=\"soft-tbl-2 borderless\">\n",
      "  <table align=\"center\" border=\"0\" cellpadding=\"3\" cellspacing=\"0\" width=\"96%\">\n",
      "   <tbody>\n",
      "    <tr>\n",
      "    </tr>\n",
      "   </tbody>\n",
      "  </table>\n",
      " </div>\n",
      " <br/>\n",
      " <br/>\n",
      " <br/>\n",
      " <br/>\n",
      " <br/>\n",
      " <br/>\n",
      "</div>\n",
      "\n"
     ]
    }
   ],
   "source": [
    "#To find the content of the reviews, we need the parents of the 'a' tags\n",
    "reviews_list = [review.parent for review  in reviews_list]\n",
    "print(reviews_list[0].prettify())"
   ]
  },
  {
   "cell_type": "markdown",
   "id": "90c37728-1cc0-4015-be8c-ebd0343b4d05",
   "metadata": {},
   "source": [
    "## 2. Building a function that extracts data from all reviews contained in a dslreports.com reviews page\n",
    "#### This function is built using the code that we wrote above. Its returns review data in a Pandas DataFrame."
   ]
  },
  {
   "cell_type": "code",
   "execution_count": 19,
   "id": "698d8915-a1bd-42e3-b7c9-4be789e64205",
   "metadata": {
    "tags": []
   },
   "outputs": [],
   "source": [
    "\n",
    "def review_data_collection(soup):\n",
    "    '''\n",
    "    Extract review data from dslreports.com \n",
    "    Arguments: soup: a BeautifulSoup object that represents a single DSL Reports web page that contains ISP reviews.\n",
    "    Returns: a Pandas DataFrame that contains review data using the following columns:\n",
    "        ['review_by', 'review_id', 'days_or_years_since_review', 'location', 'cost', \n",
    "        'installation_time', 'provider', 'pre_sales_information', 'install_co-ordination', \n",
    "        'connection_reliability', 'tech_support', 'services', 'value_for_money']\n",
    "    '''\n",
    "    \n",
    "    # Find all reviews in a single web page:\n",
    "    try:\n",
    "        reviews_list = soup.find_all('a', {'name':re.compile('review\\d')})\n",
    "        if reviews_list == []:\n",
    "            print('No reviews in this page. End.')\n",
    "            return\n",
    "    except IndexError as ie:\n",
    "        print(ie)\n",
    "        return\n",
    "        \n",
    "    reviews_list = [review.parent for review  in reviews_list]\n",
    "\n",
    "\n",
    "    # We initialize the list review_data_list that will hold dictionaries that contain the different attributes of each review\n",
    "    review_data_list = []\n",
    "\n",
    "    #print('Rows', end = '\\t')\n",
    "    i=0\n",
    "    for review in reviews_list:\n",
    "        # initialize a dict that will hold the data of each row (review)\n",
    "        review_data = dict()\n",
    "        i+=1\n",
    "        #print(i, end = '\\t')\n",
    "\n",
    "        # Find when a review was posted or updated\n",
    "        # Remove from the soup the content of the div tag that include the information about other reviews \n",
    "        # by the same reviewer. (they use the class 'soft-tbl-10'). This is only present is some reviews.\n",
    "        try:\n",
    "            review.find('div', class_ = 'soft-tbl-10').extract()\n",
    "        except AttributeError:\n",
    "            pass\n",
    "        \n",
    "        # Some reviews have attached pictures within a div tag\n",
    "        # Attachments: <div class=\"news_tiny_center\"> <!-- tiny_attach --> ....\n",
    "        # This should also be removed from the soup.\n",
    "        try:\n",
    "            for attach_tag in review.find_all(text=re.compile('tiny_attach')):\n",
    "                  attach_tag.parent.extract()\n",
    "        except AttributeError:\n",
    "            pass       \n",
    "\n",
    "        # After the soup clean-up above, the required 'age' of a review will always be included within the 2nd div tag.\n",
    "        try:\n",
    "            review_date_string = review.find_all('div')[1].find(string = re.compile('(updated)|(lodged)'))\n",
    "            review_data['days_or_years_since_review'] = ' '.join(review_date_string.split(' ')[1:3])\n",
    "        except AttributeError:\n",
    "            pass\n",
    "\n",
    "\n",
    "        # The first table within each review includes all the required data aside from the posting date.\n",
    "        # The table has one row and two cells.\n",
    "        review_table = review.find('table')\n",
    "\n",
    "        # Scrap the review data included in the first cell\n",
    "        first_cell = review_table.find_all('td')[0]\n",
    "        \n",
    "        try:\n",
    "            rev_by = first_cell.find('div').text.split(' ')\n",
    "            if rev_by[0].lower() + '_' + rev_by[1] == 'review_by':\n",
    "                review_data['review_by'] = ' '. join(rev_by[2:])\n",
    "            else:\n",
    "                pass\n",
    "        except AttributeError:\n",
    "            pass\n",
    "\n",
    "        try:\n",
    "            review_data['review_id'] = first_cell.find_all('a')[1]['name']\n",
    "        except:\n",
    "            pass\n",
    "\n",
    "        for item in first_cell.find_all('li'):\n",
    "            item = item.text.split(' ')\n",
    "            key = item[0].strip(':').lower()  \n",
    "            if key == 'location':\n",
    "                review_data[key] = ' '.join(item[1:])\n",
    "            elif key == 'cost':\n",
    "                val = item[1].strip('$')\n",
    "                if val.isdigit():\n",
    "                    review_data[key] = val\n",
    "            elif key == 'install':\n",
    "                review_data['installation_time'] = re.findall('^\\D*(\\d+)\\D*', ' '.join(item[1:]))[0]\n",
    "\n",
    "        try:\n",
    "            review_data['provider'] = review_table.find_all('td')[0].find('img', {'alt': 'Telco party'}).find_next_sibling('b').text\n",
    "        except AttributeError:\n",
    "            pass\n",
    "\n",
    "\n",
    "        # Scrap the review data included in the 2nd cell\n",
    "        # The ratings are included in the name of images. See this example:\n",
    "        # <b>Install Co-ordination</b>:<IMG WIDTH=70 HEIGHT=10 ALIGN=ABSMIDDLE SRC=\"//i.dslr.net/bars/50_sm.gif\">\n",
    "        \n",
    "        second_cell = review_table.find_all('td')[1]\n",
    "        for (key, value)  in zip(second_cell.find_all('b'), second_cell.find_all('img')):\n",
    "            key = key.text\n",
    "            key = '_'.join(key.split(' ')).lower()\n",
    "            review_data[key]  = re.findall('\\D*(\\d*)', value['src'])[0]\n",
    "\n",
    "\n",
    "        # Finally we append the data of each row to the list\n",
    "        review_data_list.append(review_data)\n",
    "     \n",
    "    #return a dataframe using the list above and return it.\n",
    "    \n",
    "    col = ['review_by', 'review_id', 'days_or_years_since_review', 'location', \\\n",
    "            'cost', 'installation_time', 'provider', 'pre_sales_information', \\\n",
    "            'install_co-ordination', 'connection_reliability', 'tech_support', 'services', 'value_for_money']\n",
    "    \n",
    "    return pd.DataFrame(review_data_list, columns = col)\n",
    "    "
   ]
  },
  {
   "cell_type": "markdown",
   "id": "3f1a30a3-39e0-4af1-8c4b-89abea089cd6",
   "metadata": {},
   "source": [
    "## 3. Extracting review data for the 120+ web pages that contain Bell Internet reviews on dslreports.com"
   ]
  },
  {
   "cell_type": "markdown",
   "id": "2fb47106-5fd7-4b66-864e-b0b1c3197d47",
   "metadata": {},
   "source": [
    "### 3.1 Identifying the tags that hold pagination information"
   ]
  },
  {
   "cell_type": "code",
   "execution_count": 20,
   "id": "5d3d4321-921b-4cce-b922-0c77a530e9e9",
   "metadata": {
    "tags": []
   },
   "outputs": [
    {
     "name": "stdout",
     "output_type": "stream",
     "text": [
      "<!DOCTYPE html PUBLIC \"-//W3C//DTD HTML 4.01 Transitional//EN\" \"http://www.w3.org/TR/html4/loose.dtd\">\n",
      "<html prefix=\"og: http://ogp.me/ns#\">\n",
      " <head>\n",
      "  <meta content=\"IE=EDGE\" http-equiv=\"X-UA-Compatible\"/>\n",
      "  <meta content=\"no-cache\" http-equiv=\"cache-control\"/>\n",
      "  <link href=\"http://www.dslreports.com/comments/412?1=1&amp;p=1\" rel=\"canonical\"/>\n",
      "  <title>\n",
      "   Bell Fibe Internet : All reviews | DSLReports, ISP Information\n",
      "  </title>\n",
      "  <meta content=\"text/html; charset=utf-8\" http-equiv=\"Content-type\"/>\n",
      "  <meta content=\"Bell Fibe Internet : All reviews\" name=\"description\"/>\n",
      "  <link href=\"/apple-touch-icon-57x57.png?1\" rel=\"apple-touch-icon-precomposed\" sizes=\"57x57\"/>\n",
      "  <link href=\"/apple-touch-icon-114x114.png?1\" rel=\"apple-touch-icon-precomposed\" sizes=\"114x114\"/>\n",
      "  <link href=\"/apple-touch-icon-72x72.png?1\" rel=\"apple-touch-icon-precomposed\" sizes=\"72x72\"/>\n",
      "  <link href=\"/apple-touch-icon-144x144.png?1\" rel=\"apple-touch-icon-precomposed\" sizes=\"144x144\"/>\n",
      "  <link href=\"/apple-touch-icon-\n"
     ]
    }
   ],
   "source": [
    "print(soup.prettify()[:1000])"
   ]
  },
  {
   "cell_type": "code",
   "execution_count": 21,
   "id": "7e62c2c1-4616-4068-9adf-94b3faaa2b50",
   "metadata": {},
   "outputs": [
    {
     "data": {
      "text/plain": [
       "['Reviews',\n",
       " '(1212 Reviews)',\n",
       " 'My Other Reviews',\n",
       " '(1212 Reviews)',\n",
       " 'ISP Reviews']"
      ]
     },
     "execution_count": 21,
     "metadata": {},
     "output_type": "execute_result"
    }
   ],
   "source": [
    "soup.find_all(string =  re.compile('Reviews'))"
   ]
  },
  {
   "cell_type": "code",
   "execution_count": 22,
   "id": "c08f1544-eb23-48c7-a736-74874e561bb5",
   "metadata": {
    "tags": []
   },
   "outputs": [
    {
     "name": "stdout",
     "output_type": "stream",
     "text": [
      "<div class=\"ks-pagination-links\" style=\"\">\n",
      " <ul>\n",
      "  <li class=\"next\">\n",
      "   <a href=\"/comments/412?1=1&amp;p=2\">\n",
      "    »\n",
      "   </a>\n",
      "  </li>\n",
      "  <li class=\"next\">\n",
      "   <a href=\"/comments/412?1=1&amp;p=11\">\n",
      "    »»\n",
      "   </a>\n",
      "  </li>\n",
      "  <li class=\"current\">\n",
      "   1\n",
      "  </li>\n",
      "  <li>\n",
      "   <a href=\"/comments/412?1=1&amp;p=2\">\n",
      "    2\n",
      "   </a>\n",
      "  </li>\n",
      "  ··\n",
      "  <li>\n",
      "   <a href=\"/comments/412?1=1&amp;p=122\">\n",
      "    122\n",
      "   </a>\n",
      "  </li>\n",
      " </ul>\n",
      " <span class=\"pager_help\">\n",
      "  (1212 Reviews)\n",
      " </span>\n",
      "</div>\n"
     ]
    }
   ],
   "source": [
    "print(soup.find_all(string =  re.compile('Reviews'))[1].parent.parent.prettify())"
   ]
  },
  {
   "cell_type": "code",
   "execution_count": 23,
   "id": "2cc378a6-fccd-41ba-850d-9533e3193d21",
   "metadata": {},
   "outputs": [
    {
     "data": {
      "text/plain": [
       "122"
      ]
     },
     "execution_count": 23,
     "metadata": {},
     "output_type": "execute_result"
    }
   ],
   "source": [
    "# The number of review pages\n",
    "int(soup.find('div', class_ = 'ks-pagination-links').find_all('li')[-1].text)"
   ]
  },
  {
   "cell_type": "code",
   "execution_count": 24,
   "id": "f92c8c33-cdfc-4456-8753-99475f0c00d6",
   "metadata": {},
   "outputs": [],
   "source": [
    "# Get the BeautifulSoup object oF the last review page (the least recent reviews)\n",
    "url = 'https://www.dslreports.com/comments/412?1=1&p=122'\n",
    "\n",
    "data = requests.get(url).text\n",
    "soup = BeautifulSoup(data, 'html5lib')"
   ]
  },
  {
   "cell_type": "code",
   "execution_count": 25,
   "id": "4727b593-4950-4821-86c0-4bc0f676fdd8",
   "metadata": {
    "tags": []
   },
   "outputs": [
    {
     "name": "stdout",
     "output_type": "stream",
     "text": [
      "<div class=\"ks-pagination-links\" style=\"\">\n",
      " <ul>\n",
      "  <li class=\"noclick\">\n",
      "   »\n",
      "  </li>\n",
      "  <li class=\"noclick\">\n",
      "   »»\n",
      "  </li>\n",
      "  <li>\n",
      "   <a href=\"/comments/412?1=1&amp;p=1\">\n",
      "    1\n",
      "   </a>\n",
      "  </li>\n",
      "  ··\n",
      "  <li>\n",
      "   <a href=\"/comments/412?1=1&amp;p=121\">\n",
      "    121\n",
      "   </a>\n",
      "  </li>\n",
      "  <li class=\"current\">\n",
      "   122\n",
      "  </li>\n",
      " </ul>\n",
      " <span class=\"pager_help\">\n",
      "  (1212 Reviews)\n",
      " </span>\n",
      "</div>\n"
     ]
    }
   ],
   "source": [
    "# We can use the  tag class 'ks-pagination-links'to easily find the pagination info.  \n",
    "# Note that the first page includes class='next' and the last one includes class='noclick'\n",
    "print(soup.find('div', class_ = 'ks-pagination-links').prettify())"
   ]
  },
  {
   "cell_type": "markdown",
   "id": "e146f38a-1ab7-43b2-ac09-7a386bf451f1",
   "metadata": {},
   "source": [
    "### 3.2 Extracting review data for the web pages that contain reviews and writing it into a pandas DataFrame"
   ]
  },
  {
   "cell_type": "code",
   "execution_count": 26,
   "id": "090ab1e8-fb9e-4449-be81-a61aafb3d2f3",
   "metadata": {
    "tags": []
   },
   "outputs": [
    {
     "name": "stdout",
     "output_type": "stream",
     "text": [
      "Extracting review data from dslreports.com\n",
      "Processing page\t1\t2\t3\t4\t5\t6\t7\t8\t9\t10\t11\t12\t13\t14\t15\t16\t17\t18\t19\t20\t21\t22\t23\t24\t25\t26\t27\t28\t29\t30\t31\t32\t33\t34\t35\t36\t37\t38\t39\t40\t41\t42\t43\t44\t45\t46\t47\t48\t49\t50\t51\t52\t53\t54\t55\t56\t57\t58\t59\t60\t61\t62\t63\t64\t65\t66\t67\t68\t69\t70\t71\t72\t73\t74\t75\t76\t77\t78\t79\t80\t81\t82\t83\t84\t85\t86\t87\t88\t89\t90\t91\t92\t93\t94\t95\t96\t97\t98\t99\t100\t101\t102\t103\t104\t105\t106\t107\t108\t109\t110\t111\t112\t113\t114\t115\t116\t117\t118\t119\t120\t121\t122\tNo reviews in this page. End.\n"
     ]
    }
   ],
   "source": [
    "print('Extracting review data from dslreports.com')\n",
    "print('Processing page', end = '\\t')\n",
    "\n",
    "# Initialize a list that will hold the DataFrames returned by the function review_data_collection(soup)\n",
    "list_reviews_df = []\n",
    "\n",
    "pagination_flag = 'next'\n",
    "page_number = 1\n",
    "while(pagination_flag == 'next'):\n",
    "    print(page_number, end = '\\t')\n",
    "    url = 'https://www.dslreports.com/comments/412?1=1&p=' + str(page_number)\n",
    "    response = requests.get(url, timeout = 5)\n",
    "    data = response.text\n",
    "    soup = BeautifulSoup(data, 'html5lib')\n",
    "    list_reviews_df.append(review_data_collection(soup))\n",
    "    pagination_tag = soup.find('div', class_ = 'ks-pagination-links')\n",
    "    try:\n",
    "        pagination_flag = pagination_tag.li['class'][0]\n",
    "    except AttributeError as ar:\n",
    "        print(ar)\n",
    "        print(f'Pagination tag: {pagination_tag}')\n",
    "        break\n",
    "    page_number += 1\n",
    "    # Adding random sleep delays to emulate the behaviour of a stanbdar user and\n",
    "    # avoid being blocked by the dslreports.com web server.\n",
    "    time.sleep(np.random.randint(0, 3))\n",
    "\n",
    "reviews_df = pd.concat(list_reviews_df, ignore_index=True)"
   ]
  },
  {
   "cell_type": "code",
   "execution_count": 27,
   "id": "b8a117de-1d4e-4a12-93bd-88aa1fefacc6",
   "metadata": {
    "tags": []
   },
   "outputs": [
    {
     "data": {
      "text/html": [
       "<div>\n",
       "<style scoped>\n",
       "    .dataframe tbody tr th:only-of-type {\n",
       "        vertical-align: middle;\n",
       "    }\n",
       "\n",
       "    .dataframe tbody tr th {\n",
       "        vertical-align: top;\n",
       "    }\n",
       "\n",
       "    .dataframe thead th {\n",
       "        text-align: right;\n",
       "    }\n",
       "</style>\n",
       "<table border=\"1\" class=\"dataframe\">\n",
       "  <thead>\n",
       "    <tr style=\"text-align: right;\">\n",
       "      <th></th>\n",
       "      <th>review_by</th>\n",
       "      <th>review_id</th>\n",
       "      <th>days_or_years_since_review</th>\n",
       "      <th>location</th>\n",
       "      <th>cost</th>\n",
       "      <th>installation_time</th>\n",
       "      <th>provider</th>\n",
       "      <th>pre_sales_information</th>\n",
       "      <th>install_co-ordination</th>\n",
       "      <th>connection_reliability</th>\n",
       "      <th>tech_support</th>\n",
       "      <th>services</th>\n",
       "      <th>value_for_money</th>\n",
       "    </tr>\n",
       "  </thead>\n",
       "  <tbody>\n",
       "    <tr>\n",
       "      <th>0</th>\n",
       "      <td>ych</td>\n",
       "      <td>96808</td>\n",
       "      <td>46 days</td>\n",
       "      <td>Montreal, QC, Canada</td>\n",
       "      <td>57</td>\n",
       "      <td>2</td>\n",
       "      <td>Bell Canada</td>\n",
       "      <td>NaN</td>\n",
       "      <td>50</td>\n",
       "      <td>50</td>\n",
       "      <td>50</td>\n",
       "      <td>50</td>\n",
       "      <td>NaN</td>\n",
       "    </tr>\n",
       "    <tr>\n",
       "      <th>1</th>\n",
       "      <td>RumClutch</td>\n",
       "      <td>95503</td>\n",
       "      <td>87 days</td>\n",
       "      <td>Georgetown, ON, Canada</td>\n",
       "      <td>70</td>\n",
       "      <td>2</td>\n",
       "      <td>Bell Canada</td>\n",
       "      <td>100</td>\n",
       "      <td>75</td>\n",
       "      <td>100</td>\n",
       "      <td>75</td>\n",
       "      <td>75</td>\n",
       "      <td>50</td>\n",
       "    </tr>\n",
       "    <tr>\n",
       "      <th>2</th>\n",
       "      <td>El Quintron</td>\n",
       "      <td>95743</td>\n",
       "      <td>100 days</td>\n",
       "      <td>Tronna</td>\n",
       "      <td>80</td>\n",
       "      <td>8</td>\n",
       "      <td>Bell Canada</td>\n",
       "      <td>75</td>\n",
       "      <td>0</td>\n",
       "      <td>100</td>\n",
       "      <td>50</td>\n",
       "      <td>75</td>\n",
       "      <td>75</td>\n",
       "    </tr>\n",
       "    <tr>\n",
       "      <th>3</th>\n",
       "      <td>techie7k</td>\n",
       "      <td>96766</td>\n",
       "      <td>136 days</td>\n",
       "      <td>undisclosed location</td>\n",
       "      <td>NaN</td>\n",
       "      <td>NaN</td>\n",
       "      <td>NaN</td>\n",
       "      <td>100</td>\n",
       "      <td>100</td>\n",
       "      <td>100</td>\n",
       "      <td>100</td>\n",
       "      <td>100</td>\n",
       "      <td>100</td>\n",
       "    </tr>\n",
       "    <tr>\n",
       "      <th>4</th>\n",
       "      <td>KlatuuBarada</td>\n",
       "      <td>96762</td>\n",
       "      <td>147 days</td>\n",
       "      <td>Laval, QC, Canada</td>\n",
       "      <td>80</td>\n",
       "      <td>2</td>\n",
       "      <td>NaN</td>\n",
       "      <td>75</td>\n",
       "      <td>75</td>\n",
       "      <td>100</td>\n",
       "      <td>50</td>\n",
       "      <td>75</td>\n",
       "      <td>50</td>\n",
       "    </tr>\n",
       "  </tbody>\n",
       "</table>\n",
       "</div>"
      ],
      "text/plain": [
       "        review_by review_id days_or_years_since_review  \\\n",
       "0           ych       96808                    46 days   \n",
       "1     RumClutch       95503                    87 days   \n",
       "2   El Quintron       95743                   100 days   \n",
       "3      techie7k       96766                   136 days   \n",
       "4  KlatuuBarada       96762                   147 days   \n",
       "\n",
       "                 location cost installation_time     provider  \\\n",
       "0    Montreal, QC, Canada   57                 2  Bell Canada   \n",
       "1  Georgetown, ON, Canada   70                 2  Bell Canada   \n",
       "2                  Tronna   80                 8  Bell Canada   \n",
       "3    undisclosed location  NaN               NaN          NaN   \n",
       "4       Laval, QC, Canada   80                 2          NaN   \n",
       "\n",
       "  pre_sales_information install_co-ordination connection_reliability  \\\n",
       "0                   NaN                    50                     50   \n",
       "1                   100                    75                    100   \n",
       "2                    75                     0                    100   \n",
       "3                   100                   100                    100   \n",
       "4                    75                    75                    100   \n",
       "\n",
       "  tech_support services value_for_money  \n",
       "0           50       50             NaN  \n",
       "1           75       75              50  \n",
       "2           50       75              75  \n",
       "3          100      100             100  \n",
       "4           50       75              50  "
      ]
     },
     "execution_count": 27,
     "metadata": {},
     "output_type": "execute_result"
    }
   ],
   "source": [
    "reviews_df.head(5)"
   ]
  },
  {
   "cell_type": "markdown",
   "id": "0770630a-e5fa-4aa3-9b6f-6fd503cd7816",
   "metadata": {},
   "source": [
    "### 3.3 Counting null values in each column"
   ]
  },
  {
   "cell_type": "code",
   "execution_count": 28,
   "id": "eb946bff-b135-42bf-b212-77a46067baad",
   "metadata": {
    "tags": []
   },
   "outputs": [
    {
     "data": {
      "text/plain": [
       "review_by                      0.082919\n",
       "review_id                      3.233831\n",
       "days_or_years_since_review     0.000000\n",
       "location                       0.000000\n",
       "cost                          12.852405\n",
       "installation_time             42.620232\n",
       "provider                      34.245439\n",
       "pre_sales_information          6.135987\n",
       "install_co-ordination          6.384743\n",
       "connection_reliability         5.140962\n",
       "tech_support                   6.965174\n",
       "services                       6.384743\n",
       "value_for_money                5.555556\n",
       "dtype: float64"
      ]
     },
     "execution_count": 28,
     "metadata": {},
     "output_type": "execute_result"
    }
   ],
   "source": [
    "reviews_df.isnull().sum()  * 100 / len(reviews_df)"
   ]
  },
  {
   "cell_type": "markdown",
   "id": "b5543c5f-9817-40ec-b588-ce8a6e2a331e",
   "metadata": {},
   "source": [
    "#### About 34% and 42% of reviews are missing the installation time and provider data, respectively. \n",
    "#### The 'provider' column doesn't hold any significant data. We know already that these reviews are for Bell Canada Internet service. We will drop this column."
   ]
  },
  {
   "cell_type": "code",
   "execution_count": 29,
   "id": "fa46ad4e-d48c-4694-a3d9-bd9ac83fc64a",
   "metadata": {},
   "outputs": [
    {
     "data": {
      "text/plain": [
       "Bell Canada    790\n",
       "Rhythms          1\n",
       "BellSouth        1\n",
       "Digital          1\n",
       "Name: provider, dtype: int64"
      ]
     },
     "execution_count": 29,
     "metadata": {},
     "output_type": "execute_result"
    }
   ],
   "source": [
    "reviews_df['provider'].value_counts()"
   ]
  },
  {
   "cell_type": "code",
   "execution_count": 30,
   "id": "7c43b14d-8d4a-461d-8ad0-978ebe7bb3a0",
   "metadata": {},
   "outputs": [],
   "source": [
    "reviews_df.drop('provider', axis=1, inplace=True)"
   ]
  },
  {
   "cell_type": "markdown",
   "id": "a33fdfa1-9f56-4180-94b0-096873a3f498",
   "metadata": {},
   "source": [
    "### 3.4 Finding the date the review was posted or last updated"
   ]
  },
  {
   "cell_type": "code",
   "execution_count": 31,
   "id": "4856c291-a3b4-4248-bb95-ef7ba9babee7",
   "metadata": {},
   "outputs": [
    {
     "data": {
      "text/plain": [
       "125     8.5 years\n",
       "795    17.5 years\n",
       "863    18.1 years\n",
       "375    13.5 years\n",
       "279    12.4 years\n",
       "Name: days_or_years_since_review, dtype: object"
      ]
     },
     "execution_count": 31,
     "metadata": {},
     "output_type": "execute_result"
    }
   ],
   "source": [
    "reviews_df['days_or_years_since_review'].sample(5)"
   ]
  },
  {
   "cell_type": "code",
   "execution_count": 32,
   "id": "857ca1ca-1e0e-4a4a-83c0-f69f8548a1a8",
   "metadata": {},
   "outputs": [],
   "source": [
    "def find_date(elapsed_time):\n",
    "    ''' \n",
    "    Get the review date from the elapsed time\n",
    "    Arguments: elapsed_time (string) with the format 'x day(s)' or 'x year(s)' where x is the number of \n",
    "    days/years since a review was posted or last updated.\n",
    "    Returns: date when the review was posted or last updated.\n",
    "    '''\n",
    "    \n",
    "    num_years_or_days = elapsed_time.split(' ')\n",
    "    # We want to match both year(day) and years(days)\n",
    "    if 'year' in num_years_or_days[-1]:  \n",
    "        review_date = date.today() - timedelta(days=float(num_years_or_days[0]) * 365.25)\n",
    "    elif 'day' in num_years_or_days[-1]:\n",
    "        review_date = date.today() - timedelta(days=float(num_years_or_days[0]))\n",
    "    else:\n",
    "        raise Exception('Check the elapsted time. This function expects the format x day(s) or x year(s) \\\n",
    "        where x is the number of days/years since a review was posted or last updated.')\n",
    "    return review_date.isoformat()"
   ]
  },
  {
   "cell_type": "code",
   "execution_count": 33,
   "id": "ecaa0334-0e1f-4d22-a939-0ce4e75957d5",
   "metadata": {},
   "outputs": [],
   "source": [
    "reviews_df['date'] = reviews_df['days_or_years_since_review'].apply(find_date)\n",
    "\n",
    "reviews_df.drop('days_or_years_since_review', axis=1, inplace=True)"
   ]
  },
  {
   "cell_type": "code",
   "execution_count": 34,
   "id": "78dcbe90-0a30-47ab-bbd2-00fd5b7043e3",
   "metadata": {},
   "outputs": [
    {
     "data": {
      "text/html": [
       "<div>\n",
       "<style scoped>\n",
       "    .dataframe tbody tr th:only-of-type {\n",
       "        vertical-align: middle;\n",
       "    }\n",
       "\n",
       "    .dataframe tbody tr th {\n",
       "        vertical-align: top;\n",
       "    }\n",
       "\n",
       "    .dataframe thead th {\n",
       "        text-align: right;\n",
       "    }\n",
       "</style>\n",
       "<table border=\"1\" class=\"dataframe\">\n",
       "  <thead>\n",
       "    <tr style=\"text-align: right;\">\n",
       "      <th></th>\n",
       "      <th>review_by</th>\n",
       "      <th>review_id</th>\n",
       "      <th>location</th>\n",
       "      <th>cost</th>\n",
       "      <th>installation_time</th>\n",
       "      <th>pre_sales_information</th>\n",
       "      <th>install_co-ordination</th>\n",
       "      <th>connection_reliability</th>\n",
       "      <th>tech_support</th>\n",
       "      <th>services</th>\n",
       "      <th>value_for_money</th>\n",
       "      <th>date</th>\n",
       "    </tr>\n",
       "  </thead>\n",
       "  <tbody>\n",
       "    <tr>\n",
       "      <th>642</th>\n",
       "      <td>canadiancree</td>\n",
       "      <td>62662</td>\n",
       "      <td>Perth, ON, Canada</td>\n",
       "      <td>NaN</td>\n",
       "      <td>NaN</td>\n",
       "      <td>50</td>\n",
       "      <td>50</td>\n",
       "      <td>0</td>\n",
       "      <td>0</td>\n",
       "      <td>0</td>\n",
       "      <td>0</td>\n",
       "      <td>2007-08-17</td>\n",
       "    </tr>\n",
       "    <tr>\n",
       "      <th>326</th>\n",
       "      <td>Cozman99</td>\n",
       "      <td>72672</td>\n",
       "      <td>North York, ON, Canada</td>\n",
       "      <td>52</td>\n",
       "      <td>10</td>\n",
       "      <td>50</td>\n",
       "      <td>75</td>\n",
       "      <td>75</td>\n",
       "      <td>100</td>\n",
       "      <td>100</td>\n",
       "      <td>25</td>\n",
       "      <td>2009-02-15</td>\n",
       "    </tr>\n",
       "    <tr>\n",
       "      <th>719</th>\n",
       "      <td>MBaudot</td>\n",
       "      <td>55934</td>\n",
       "      <td>ON</td>\n",
       "      <td>45</td>\n",
       "      <td>NaN</td>\n",
       "      <td>50</td>\n",
       "      <td>75</td>\n",
       "      <td>75</td>\n",
       "      <td>75</td>\n",
       "      <td>100</td>\n",
       "      <td>75</td>\n",
       "      <td>2006-04-29</td>\n",
       "    </tr>\n",
       "    <tr>\n",
       "      <th>434</th>\n",
       "      <td>wiggy86</td>\n",
       "      <td>68627</td>\n",
       "      <td>Oshawa, ON, Canada</td>\n",
       "      <td>30</td>\n",
       "      <td>NaN</td>\n",
       "      <td>0</td>\n",
       "      <td>0</td>\n",
       "      <td>50</td>\n",
       "      <td>0</td>\n",
       "      <td>0</td>\n",
       "      <td>0</td>\n",
       "      <td>2008-06-05</td>\n",
       "    </tr>\n",
       "    <tr>\n",
       "      <th>505</th>\n",
       "      <td>Deadpool0</td>\n",
       "      <td>33436</td>\n",
       "      <td>Canada</td>\n",
       "      <td>49</td>\n",
       "      <td>4</td>\n",
       "      <td>75</td>\n",
       "      <td>75</td>\n",
       "      <td>75</td>\n",
       "      <td>50</td>\n",
       "      <td>75</td>\n",
       "      <td>75</td>\n",
       "      <td>2008-03-23</td>\n",
       "    </tr>\n",
       "  </tbody>\n",
       "</table>\n",
       "</div>"
      ],
      "text/plain": [
       "          review_by review_id                location cost installation_time  \\\n",
       "642  canadiancree       62662       Perth, ON, Canada  NaN               NaN   \n",
       "326      Cozman99       72672  North York, ON, Canada   52                10   \n",
       "719       MBaudot       55934                      ON   45               NaN   \n",
       "434       wiggy86       68627      Oshawa, ON, Canada   30               NaN   \n",
       "505     Deadpool0       33436                  Canada   49                 4   \n",
       "\n",
       "    pre_sales_information install_co-ordination connection_reliability  \\\n",
       "642                    50                    50                      0   \n",
       "326                    50                    75                     75   \n",
       "719                    50                    75                     75   \n",
       "434                     0                     0                     50   \n",
       "505                    75                    75                     75   \n",
       "\n",
       "    tech_support services value_for_money        date  \n",
       "642            0        0               0  2007-08-17  \n",
       "326          100      100              25  2009-02-15  \n",
       "719           75      100              75  2006-04-29  \n",
       "434            0        0               0  2008-06-05  \n",
       "505           50       75              75  2008-03-23  "
      ]
     },
     "execution_count": 34,
     "metadata": {},
     "output_type": "execute_result"
    }
   ],
   "source": [
    "reviews_df.sample(5)"
   ]
  },
  {
   "cell_type": "markdown",
   "id": "8d3932b3-e964-496b-8301-1962d0d666b4",
   "metadata": {},
   "source": [
    "## 4. Writing the Pandas DataFrame to a CSV file"
   ]
  },
  {
   "cell_type": "code",
   "execution_count": 35,
   "id": "3f97365e-d7a4-42b5-8fcc-0ad90ffda768",
   "metadata": {},
   "outputs": [],
   "source": [
    "os.makedirs('data', exist_ok=True)\n",
    "\n",
    "with open('data/dslreports_reviews_Bell_Internet.csv',  'w') as f:\n",
    "    reviews_df.to_csv(f)"
   ]
  },
  {
   "cell_type": "markdown",
   "id": "a3a33bd4-29fe-4dfb-a205-39831395677c",
   "metadata": {
    "tags": []
   },
   "source": [
    "## 5. Data visualization\n",
    "\n",
    "### Charting yearly Bell ratings"
   ]
  },
  {
   "cell_type": "markdown",
   "id": "8dbdc0fa-4236-4617-819e-030b9a14e58d",
   "metadata": {},
   "source": [
    "### 5.1 Calculating yearly averages of the different ratings and the overall rating \n",
    "\n",
    "#### The reviewers select a satisfaction level of 0%, 25%, 50%, 75%, or 100% to rate the quality of different aspects of the service. 100% represents the highest satisfaction level."
   ]
  },
  {
   "cell_type": "code",
   "execution_count": 36,
   "id": "784e202d-c755-43eb-b43e-41fddbd8c370",
   "metadata": {},
   "outputs": [
    {
     "data": {
      "text/html": [
       "<div>\n",
       "<style scoped>\n",
       "    .dataframe tbody tr th:only-of-type {\n",
       "        vertical-align: middle;\n",
       "    }\n",
       "\n",
       "    .dataframe tbody tr th {\n",
       "        vertical-align: top;\n",
       "    }\n",
       "\n",
       "    .dataframe thead th {\n",
       "        text-align: right;\n",
       "    }\n",
       "</style>\n",
       "<table border=\"1\" class=\"dataframe\">\n",
       "  <thead>\n",
       "    <tr style=\"text-align: right;\">\n",
       "      <th></th>\n",
       "      <th>pre_sales_information</th>\n",
       "      <th>install_co-ordination</th>\n",
       "      <th>connection_reliability</th>\n",
       "      <th>tech_support</th>\n",
       "      <th>services</th>\n",
       "      <th>value_for_money</th>\n",
       "      <th>overall_rating</th>\n",
       "    </tr>\n",
       "    <tr>\n",
       "      <th>date</th>\n",
       "      <th></th>\n",
       "      <th></th>\n",
       "      <th></th>\n",
       "      <th></th>\n",
       "      <th></th>\n",
       "      <th></th>\n",
       "      <th></th>\n",
       "    </tr>\n",
       "  </thead>\n",
       "  <tbody>\n",
       "    <tr>\n",
       "      <th>1999</th>\n",
       "      <td>46.666667</td>\n",
       "      <td>61.666667</td>\n",
       "      <td>41.666667</td>\n",
       "      <td>12.500000</td>\n",
       "      <td>40.000000</td>\n",
       "      <td>45.000000</td>\n",
       "      <td>41.250000</td>\n",
       "    </tr>\n",
       "    <tr>\n",
       "      <th>2000</th>\n",
       "      <td>67.592593</td>\n",
       "      <td>63.207547</td>\n",
       "      <td>75.000000</td>\n",
       "      <td>37.264151</td>\n",
       "      <td>65.384615</td>\n",
       "      <td>78.240741</td>\n",
       "      <td>64.448274</td>\n",
       "    </tr>\n",
       "    <tr>\n",
       "      <th>2001</th>\n",
       "      <td>69.191919</td>\n",
       "      <td>71.391753</td>\n",
       "      <td>75.000000</td>\n",
       "      <td>44.946809</td>\n",
       "      <td>66.326531</td>\n",
       "      <td>75.515464</td>\n",
       "      <td>67.062079</td>\n",
       "    </tr>\n",
       "    <tr>\n",
       "      <th>2002</th>\n",
       "      <td>59.615385</td>\n",
       "      <td>67.968750</td>\n",
       "      <td>77.611940</td>\n",
       "      <td>46.031746</td>\n",
       "      <td>65.625000</td>\n",
       "      <td>59.469697</td>\n",
       "      <td>62.720420</td>\n",
       "    </tr>\n",
       "    <tr>\n",
       "      <th>2003</th>\n",
       "      <td>69.620253</td>\n",
       "      <td>74.358974</td>\n",
       "      <td>85.060976</td>\n",
       "      <td>56.645570</td>\n",
       "      <td>68.437500</td>\n",
       "      <td>69.753086</td>\n",
       "      <td>70.646060</td>\n",
       "    </tr>\n",
       "    <tr>\n",
       "      <th>2004</th>\n",
       "      <td>67.696629</td>\n",
       "      <td>73.611111</td>\n",
       "      <td>74.175824</td>\n",
       "      <td>49.175824</td>\n",
       "      <td>62.500000</td>\n",
       "      <td>65.659341</td>\n",
       "      <td>65.469788</td>\n",
       "    </tr>\n",
       "    <tr>\n",
       "      <th>2005</th>\n",
       "      <td>67.000000</td>\n",
       "      <td>69.500000</td>\n",
       "      <td>71.568627</td>\n",
       "      <td>46.000000</td>\n",
       "      <td>57.352941</td>\n",
       "      <td>53.431373</td>\n",
       "      <td>60.808824</td>\n",
       "    </tr>\n",
       "    <tr>\n",
       "      <th>2006</th>\n",
       "      <td>59.659091</td>\n",
       "      <td>56.111111</td>\n",
       "      <td>63.888889</td>\n",
       "      <td>37.500000</td>\n",
       "      <td>51.704545</td>\n",
       "      <td>53.333333</td>\n",
       "      <td>53.699495</td>\n",
       "    </tr>\n",
       "    <tr>\n",
       "      <th>2007</th>\n",
       "      <td>41.400000</td>\n",
       "      <td>46.572581</td>\n",
       "      <td>51.587302</td>\n",
       "      <td>21.031746</td>\n",
       "      <td>29.400000</td>\n",
       "      <td>29.761905</td>\n",
       "      <td>36.625589</td>\n",
       "    </tr>\n",
       "    <tr>\n",
       "      <th>2008</th>\n",
       "      <td>37.948718</td>\n",
       "      <td>45.876289</td>\n",
       "      <td>53.409091</td>\n",
       "      <td>20.153061</td>\n",
       "      <td>25.253807</td>\n",
       "      <td>23.863636</td>\n",
       "      <td>34.417434</td>\n",
       "    </tr>\n",
       "    <tr>\n",
       "      <th>2009</th>\n",
       "      <td>38.380282</td>\n",
       "      <td>45.138889</td>\n",
       "      <td>57.394366</td>\n",
       "      <td>22.222222</td>\n",
       "      <td>27.112676</td>\n",
       "      <td>23.214286</td>\n",
       "      <td>35.577120</td>\n",
       "    </tr>\n",
       "    <tr>\n",
       "      <th>2010</th>\n",
       "      <td>50.000000</td>\n",
       "      <td>55.128205</td>\n",
       "      <td>57.051282</td>\n",
       "      <td>38.815789</td>\n",
       "      <td>42.307692</td>\n",
       "      <td>32.051282</td>\n",
       "      <td>45.892375</td>\n",
       "    </tr>\n",
       "    <tr>\n",
       "      <th>2011</th>\n",
       "      <td>41.949153</td>\n",
       "      <td>44.915254</td>\n",
       "      <td>43.534483</td>\n",
       "      <td>21.551724</td>\n",
       "      <td>27.118644</td>\n",
       "      <td>21.186441</td>\n",
       "      <td>33.375950</td>\n",
       "    </tr>\n",
       "    <tr>\n",
       "      <th>2012</th>\n",
       "      <td>47.000000</td>\n",
       "      <td>60.000000</td>\n",
       "      <td>48.000000</td>\n",
       "      <td>43.000000</td>\n",
       "      <td>40.000000</td>\n",
       "      <td>29.000000</td>\n",
       "      <td>44.500000</td>\n",
       "    </tr>\n",
       "    <tr>\n",
       "      <th>2013</th>\n",
       "      <td>45.454545</td>\n",
       "      <td>48.863636</td>\n",
       "      <td>65.909091</td>\n",
       "      <td>36.363636</td>\n",
       "      <td>44.047619</td>\n",
       "      <td>32.954545</td>\n",
       "      <td>45.598846</td>\n",
       "    </tr>\n",
       "    <tr>\n",
       "      <th>2014</th>\n",
       "      <td>40.000000</td>\n",
       "      <td>46.666667</td>\n",
       "      <td>61.666667</td>\n",
       "      <td>23.333333</td>\n",
       "      <td>45.000000</td>\n",
       "      <td>31.666667</td>\n",
       "      <td>41.388889</td>\n",
       "    </tr>\n",
       "    <tr>\n",
       "      <th>2015</th>\n",
       "      <td>57.352941</td>\n",
       "      <td>70.588235</td>\n",
       "      <td>73.529412</td>\n",
       "      <td>31.666667</td>\n",
       "      <td>45.312500</td>\n",
       "      <td>25.000000</td>\n",
       "      <td>50.574959</td>\n",
       "    </tr>\n",
       "    <tr>\n",
       "      <th>2016</th>\n",
       "      <td>66.176471</td>\n",
       "      <td>67.647059</td>\n",
       "      <td>80.882353</td>\n",
       "      <td>33.333333</td>\n",
       "      <td>56.250000</td>\n",
       "      <td>54.687500</td>\n",
       "      <td>59.829453</td>\n",
       "    </tr>\n",
       "    <tr>\n",
       "      <th>2017</th>\n",
       "      <td>65.277778</td>\n",
       "      <td>70.833333</td>\n",
       "      <td>72.222222</td>\n",
       "      <td>48.529412</td>\n",
       "      <td>54.166667</td>\n",
       "      <td>54.166667</td>\n",
       "      <td>60.866013</td>\n",
       "    </tr>\n",
       "    <tr>\n",
       "      <th>2018</th>\n",
       "      <td>72.727273</td>\n",
       "      <td>79.545455</td>\n",
       "      <td>79.545455</td>\n",
       "      <td>43.181818</td>\n",
       "      <td>65.909091</td>\n",
       "      <td>68.181818</td>\n",
       "      <td>68.181818</td>\n",
       "    </tr>\n",
       "    <tr>\n",
       "      <th>2019</th>\n",
       "      <td>70.833333</td>\n",
       "      <td>75.000000</td>\n",
       "      <td>95.833333</td>\n",
       "      <td>66.666667</td>\n",
       "      <td>79.166667</td>\n",
       "      <td>75.000000</td>\n",
       "      <td>77.083333</td>\n",
       "    </tr>\n",
       "    <tr>\n",
       "      <th>2020</th>\n",
       "      <td>68.750000</td>\n",
       "      <td>81.250000</td>\n",
       "      <td>78.125000</td>\n",
       "      <td>50.000000</td>\n",
       "      <td>59.375000</td>\n",
       "      <td>46.875000</td>\n",
       "      <td>64.062500</td>\n",
       "    </tr>\n",
       "    <tr>\n",
       "      <th>2021</th>\n",
       "      <td>75.000000</td>\n",
       "      <td>92.857143</td>\n",
       "      <td>96.428571</td>\n",
       "      <td>78.571429</td>\n",
       "      <td>89.285714</td>\n",
       "      <td>67.857143</td>\n",
       "      <td>83.333333</td>\n",
       "    </tr>\n",
       "    <tr>\n",
       "      <th>2022</th>\n",
       "      <td>87.500000</td>\n",
       "      <td>41.666667</td>\n",
       "      <td>83.333333</td>\n",
       "      <td>58.333333</td>\n",
       "      <td>66.666667</td>\n",
       "      <td>62.500000</td>\n",
       "      <td>66.666667</td>\n",
       "    </tr>\n",
       "  </tbody>\n",
       "</table>\n",
       "</div>"
      ],
      "text/plain": [
       "      pre_sales_information  install_co-ordination  connection_reliability  \\\n",
       "date                                                                         \n",
       "1999              46.666667              61.666667               41.666667   \n",
       "2000              67.592593              63.207547               75.000000   \n",
       "2001              69.191919              71.391753               75.000000   \n",
       "2002              59.615385              67.968750               77.611940   \n",
       "2003              69.620253              74.358974               85.060976   \n",
       "2004              67.696629              73.611111               74.175824   \n",
       "2005              67.000000              69.500000               71.568627   \n",
       "2006              59.659091              56.111111               63.888889   \n",
       "2007              41.400000              46.572581               51.587302   \n",
       "2008              37.948718              45.876289               53.409091   \n",
       "2009              38.380282              45.138889               57.394366   \n",
       "2010              50.000000              55.128205               57.051282   \n",
       "2011              41.949153              44.915254               43.534483   \n",
       "2012              47.000000              60.000000               48.000000   \n",
       "2013              45.454545              48.863636               65.909091   \n",
       "2014              40.000000              46.666667               61.666667   \n",
       "2015              57.352941              70.588235               73.529412   \n",
       "2016              66.176471              67.647059               80.882353   \n",
       "2017              65.277778              70.833333               72.222222   \n",
       "2018              72.727273              79.545455               79.545455   \n",
       "2019              70.833333              75.000000               95.833333   \n",
       "2020              68.750000              81.250000               78.125000   \n",
       "2021              75.000000              92.857143               96.428571   \n",
       "2022              87.500000              41.666667               83.333333   \n",
       "\n",
       "      tech_support   services  value_for_money  overall_rating  \n",
       "date                                                            \n",
       "1999     12.500000  40.000000        45.000000       41.250000  \n",
       "2000     37.264151  65.384615        78.240741       64.448274  \n",
       "2001     44.946809  66.326531        75.515464       67.062079  \n",
       "2002     46.031746  65.625000        59.469697       62.720420  \n",
       "2003     56.645570  68.437500        69.753086       70.646060  \n",
       "2004     49.175824  62.500000        65.659341       65.469788  \n",
       "2005     46.000000  57.352941        53.431373       60.808824  \n",
       "2006     37.500000  51.704545        53.333333       53.699495  \n",
       "2007     21.031746  29.400000        29.761905       36.625589  \n",
       "2008     20.153061  25.253807        23.863636       34.417434  \n",
       "2009     22.222222  27.112676        23.214286       35.577120  \n",
       "2010     38.815789  42.307692        32.051282       45.892375  \n",
       "2011     21.551724  27.118644        21.186441       33.375950  \n",
       "2012     43.000000  40.000000        29.000000       44.500000  \n",
       "2013     36.363636  44.047619        32.954545       45.598846  \n",
       "2014     23.333333  45.000000        31.666667       41.388889  \n",
       "2015     31.666667  45.312500        25.000000       50.574959  \n",
       "2016     33.333333  56.250000        54.687500       59.829453  \n",
       "2017     48.529412  54.166667        54.166667       60.866013  \n",
       "2018     43.181818  65.909091        68.181818       68.181818  \n",
       "2019     66.666667  79.166667        75.000000       77.083333  \n",
       "2020     50.000000  59.375000        46.875000       64.062500  \n",
       "2021     78.571429  89.285714        67.857143       83.333333  \n",
       "2022     58.333333  66.666667        62.500000       66.666667  "
      ]
     },
     "execution_count": 36,
     "metadata": {},
     "output_type": "execute_result"
    }
   ],
   "source": [
    "reviews_df['date'] = pd.to_datetime(reviews_df['date'])\n",
    "reviews_df.iloc[:, 3:-1] = reviews_df.iloc[:, 3:-1].astype(np.float64)\n",
    "\n",
    "yearly_ratings_Bell = reviews_df.iloc[:,5:].groupby(reviews_df['date'].dt.year).agg(np.nanmean)\n",
    "yearly_ratings_Bell['overall_rating'] = yearly_ratings_Bell.apply(np.nanmean, axis=1)\n",
    "yearly_ratings_Bell"
   ]
  },
  {
   "cell_type": "code",
   "execution_count": 37,
   "id": "a9f39813-c2f1-46f6-a204-ed773bece6d8",
   "metadata": {},
   "outputs": [
    {
     "data": {
      "text/html": [
       "<div>\n",
       "<style scoped>\n",
       "    .dataframe tbody tr th:only-of-type {\n",
       "        vertical-align: middle;\n",
       "    }\n",
       "\n",
       "    .dataframe tbody tr th {\n",
       "        vertical-align: top;\n",
       "    }\n",
       "\n",
       "    .dataframe thead th {\n",
       "        text-align: right;\n",
       "    }\n",
       "</style>\n",
       "<table border=\"1\" class=\"dataframe\">\n",
       "  <thead>\n",
       "    <tr style=\"text-align: right;\">\n",
       "      <th></th>\n",
       "      <th>pre_sales_information</th>\n",
       "      <th>install_co-ordination</th>\n",
       "      <th>connection_reliability</th>\n",
       "      <th>tech_support</th>\n",
       "      <th>services</th>\n",
       "      <th>value_for_money</th>\n",
       "      <th>overall_rating</th>\n",
       "    </tr>\n",
       "  </thead>\n",
       "  <tbody>\n",
       "    <tr>\n",
       "      <th>count</th>\n",
       "      <td>24.000000</td>\n",
       "      <td>24.000000</td>\n",
       "      <td>24.000000</td>\n",
       "      <td>24.000000</td>\n",
       "      <td>24.000000</td>\n",
       "      <td>24.000000</td>\n",
       "      <td>24.000000</td>\n",
       "    </tr>\n",
       "    <tr>\n",
       "      <th>mean</th>\n",
       "      <td>58.866376</td>\n",
       "      <td>62.931889</td>\n",
       "      <td>69.267703</td>\n",
       "      <td>40.284095</td>\n",
       "      <td>53.070995</td>\n",
       "      <td>49.098747</td>\n",
       "      <td>55.586634</td>\n",
       "    </tr>\n",
       "    <tr>\n",
       "      <th>std</th>\n",
       "      <td>13.841224</td>\n",
       "      <td>13.851384</td>\n",
       "      <td>15.079423</td>\n",
       "      <td>15.838039</td>\n",
       "      <td>16.900153</td>\n",
       "      <td>19.038919</td>\n",
       "      <td>14.291590</td>\n",
       "    </tr>\n",
       "    <tr>\n",
       "      <th>min</th>\n",
       "      <td>37.948718</td>\n",
       "      <td>41.666667</td>\n",
       "      <td>41.666667</td>\n",
       "      <td>12.500000</td>\n",
       "      <td>25.253807</td>\n",
       "      <td>21.186441</td>\n",
       "      <td>33.375950</td>\n",
       "    </tr>\n",
       "    <tr>\n",
       "      <th>25%</th>\n",
       "      <td>46.363636</td>\n",
       "      <td>48.314394</td>\n",
       "      <td>57.308595</td>\n",
       "      <td>29.583333</td>\n",
       "      <td>41.730769</td>\n",
       "      <td>31.190476</td>\n",
       "      <td>43.722222</td>\n",
       "    </tr>\n",
       "    <tr>\n",
       "      <th>50%</th>\n",
       "      <td>62.468434</td>\n",
       "      <td>65.427303</td>\n",
       "      <td>72.875817</td>\n",
       "      <td>40.907895</td>\n",
       "      <td>55.208333</td>\n",
       "      <td>53.382353</td>\n",
       "      <td>60.319138</td>\n",
       "    </tr>\n",
       "    <tr>\n",
       "      <th>75%</th>\n",
       "      <td>68.860480</td>\n",
       "      <td>71.946592</td>\n",
       "      <td>78.480114</td>\n",
       "      <td>48.691015</td>\n",
       "      <td>65.696023</td>\n",
       "      <td>66.208791</td>\n",
       "      <td>65.769008</td>\n",
       "    </tr>\n",
       "    <tr>\n",
       "      <th>max</th>\n",
       "      <td>87.500000</td>\n",
       "      <td>92.857143</td>\n",
       "      <td>96.428571</td>\n",
       "      <td>78.571429</td>\n",
       "      <td>89.285714</td>\n",
       "      <td>78.240741</td>\n",
       "      <td>83.333333</td>\n",
       "    </tr>\n",
       "  </tbody>\n",
       "</table>\n",
       "</div>"
      ],
      "text/plain": [
       "       pre_sales_information  install_co-ordination  connection_reliability  \\\n",
       "count              24.000000              24.000000               24.000000   \n",
       "mean               58.866376              62.931889               69.267703   \n",
       "std                13.841224              13.851384               15.079423   \n",
       "min                37.948718              41.666667               41.666667   \n",
       "25%                46.363636              48.314394               57.308595   \n",
       "50%                62.468434              65.427303               72.875817   \n",
       "75%                68.860480              71.946592               78.480114   \n",
       "max                87.500000              92.857143               96.428571   \n",
       "\n",
       "       tech_support   services  value_for_money  overall_rating  \n",
       "count     24.000000  24.000000        24.000000       24.000000  \n",
       "mean      40.284095  53.070995        49.098747       55.586634  \n",
       "std       15.838039  16.900153        19.038919       14.291590  \n",
       "min       12.500000  25.253807        21.186441       33.375950  \n",
       "25%       29.583333  41.730769        31.190476       43.722222  \n",
       "50%       40.907895  55.208333        53.382353       60.319138  \n",
       "75%       48.691015  65.696023        66.208791       65.769008  \n",
       "max       78.571429  89.285714        78.240741       83.333333  "
      ]
     },
     "execution_count": 37,
     "metadata": {},
     "output_type": "execute_result"
    }
   ],
   "source": [
    "yearly_ratings_Bell.describe()"
   ]
  },
  {
   "cell_type": "markdown",
   "id": "d1d2f3b6-c90e-45ea-8bc1-6d7c3f0557bb",
   "metadata": {},
   "source": [
    "### 5.2 Plotting line graphs for the different ratings"
   ]
  },
  {
   "cell_type": "code",
   "execution_count": 38,
   "id": "ceeab992-e30c-40c4-9e59-e5ccccb55136",
   "metadata": {},
   "outputs": [
    {
     "data": {
      "image/png": "[encoded data removed]",
      "text/plain": [
       "<Figure size 864x1296 with 6 Axes>"
      ]
     },
     "metadata": {
      "needs_background": "light"
     },
     "output_type": "display_data"
    }
   ],
   "source": [
    "fig, axs = plt.subplots(6, sharex=True, sharey=True, figsize=(12, 18), frameon=False)\n",
    "\n",
    "fig.suptitle('Bell Internet service ratings \\n Source: dslreports.com', y=0.93, size=14, alpha=0.8)\n",
    "for i in range(6):\n",
    "    axs[i].plot(yearly_ratings_Bell.iloc[:-1, i], label=yearly_ratings_Bell.columns[i]);\n",
    "    axs[i].set_title(yearly_ratings_Bell.columns[i], alpha=0.8);\n",
    "    axs[i].tick_params(top=False, bottom=False, left=False, right=False, labelleft=True,labelright=True, labelbottom=False)\n",
    "    axs[i].spines['top'].set_visible(False)\n",
    "    axs[i].spines['bottom'].set_visible(False)\n",
    "    axs[i].margins(x=0)\n",
    "    axs[i].grid(axis='x', linestyle=':')\n",
    "    \n",
    "axs[0].set_ylabel('Satisfaction level (%)', alpha=0.8)\n",
    "\n",
    "xticks_labels = yearly_ratings_Bell.index[yearly_ratings_Bell.index%2==0][:-1]\n",
    "axs[5].set_xticks(ticks=xticks_labels, labels=xticks_labels, alpha=0.8)\n",
    "axs[5].tick_params(top=False, bottom=False, left=False, right=False, labelleft=True,labelright=True, labelbottom=True) \n",
    "axs[5].spines['bottom'].set_visible(False)\n",
    "\n",
    "plt.savefig('data/yearly_Bell_internet_service_ratings_dslreports.png')\n"
   ]
  },
  {
   "cell_type": "markdown",
   "id": "eb6c477b-0995-4e7c-ac0f-14b3f8a3e176",
   "metadata": {},
   "source": [
    "### 5.3 Plotting yearly overall ratings of Bell internet service"
   ]
  },
  {
   "cell_type": "code",
   "execution_count": 39,
   "id": "e59373a7-bc07-4664-b29a-4bf07dd050a9",
   "metadata": {},
   "outputs": [
    {
     "data": {
      "image/png": "[encoded data removed]",
      "text/plain": [
       "<Figure size 864x576 with 1 Axes>"
      ]
     },
     "metadata": {
      "needs_background": "light"
     },
     "output_type": "display_data"
    }
   ],
   "source": [
    "fig = plt.figure(figsize=(12, 8), frameon=False)\n",
    "\n",
    "\n",
    "plt.plot(yearly_ratings_Bell.iloc[:-1,-1]);\n",
    "\n",
    "plt.title('Overall ratings of Bell Internet service \\n Source: dslreports.com', pad= 20, alpha=0.8)\n",
    "\n",
    "plt.ylabel('Satisfaction level (%)', alpha=0.8)\n",
    "plt.tick_params(top=False, bottom=False, left=False, right=False, labelleft=True,labelright=True, labelbottom=True)\n",
    "plt.margins(x=0)\n",
    "xticks_labels = yearly_ratings_Bell.index[yearly_ratings_Bell.index%2==0][:-1]\n",
    "plt.xticks(ticks=xticks_labels, labels=xticks_labels, alpha=0.8)\n",
    "plt.yticks(alpha=0.8);\n",
    "plt.gca().spines['bottom'].set_visible(False)\n",
    "plt.gca().spines['top'].set_visible(False)\n",
    "plt.savefig('data/yearly_Bell_internet_overall_service_ratings_dslreports.png')\n",
    "\n",
    "plt.grid(axis='x', linestyle=':')\n"
   ]
  },
  {
   "cell_type": "markdown",
   "id": "d011dbbb-eb4a-4cc9-93e2-72b24cab5ff0",
   "metadata": {},
   "source": [
    "## 6. Future work\n",
    "\n",
    "#### In this notebook, we used BeautifulSoup to extract review data of the ISP Bell Canada from dslreports.com and save it to a csv file.\n",
    "\n",
    "#### We also used matplotlib to generate from the extracted data a couple charts that show Bell Internet service ratings.\n",
    "\n",
    "#### This will later be extended to include:\n",
    "\n",
    "#### 1. Extracting review data of other Canadian ISPs.\n",
    "#### 2. Visualizing and analysing review data for the different Canadian ISPs."
   ]
  },
  {
   "cell_type": "code",
   "execution_count": null,
   "id": "9337b657-0ce9-42dc-a407-4d3abc24747a",
   "metadata": {},
   "outputs": [],
   "source": []
  }
 ],
 "metadata": {
  "kernelspec": {
   "display_name": "Python 3",
   "language": "python",
   "name": "python3"
  },
  "language_info": {
   "codemirror_mode": {
    "name": "ipython",
    "version": 3
   },
   "file_extension": ".py",
   "mimetype": "text/x-python",
   "name": "python",
   "nbconvert_exporter": "python",
   "pygments_lexer": "ipython3",
   "version": "3.8.10"
  }
 },
 "nbformat": 4,
 "nbformat_minor": 5
}
